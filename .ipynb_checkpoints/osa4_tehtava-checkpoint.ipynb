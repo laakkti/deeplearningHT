{
 "cells": [
  {
   "cell_type": "markdown",
   "id": "00c085e4",
   "metadata": {},
   "source": [
    "# Osa 4 - Syväoppiminen harjoitustyö (15 p)\n",
    "\n",
    "\n",
    "## Tehtävä 4-1\n",
    "### Aihe: Syväoppimisen toteutussuunnitelma + aineiston valinta (3 p)\n",
    "\n",
    "1. Valitse aineistosi tehtävään vapaasti esimerkiksi oman kiinnostuksen tai työn pohjalta. \n",
    "   1. Tutustu aineistoon kunnolla\n",
    "2. Esikäsittele data \n",
    "   1. Optimoi koneoppimismallille syötettävää dataa\n",
    "   2. voit poistaa \"tarpeettomat piirteet\" oman harkinnan mukaan\n",
    "   3. poikkeavien tai tyhjien data-arvojen käsittely\n",
    "3. Normalisoi data \n",
    "   1. Valitse sopiva skaalaustapa\n",
    "4. Valitse luokkamuuttuja \n",
    "5. Visualisoi dataa muutamilla eri kuvioilla. \n",
    "\n",
    "## Tehtävä 4-2\n",
    "### Aihe: Syväoppimisen toteutus (8 p)\n",
    "\n",
    "1. Valitse sovellettava(t) syväoppimismalli(t) tehtävää varten\n",
    "   1. Voit kokeilla esim. kahta eri tapaa\n",
    "   2. Hyperparametrien kokeileminen parempien tuloksien saamiseksi on myös suotavaa\n",
    "   3. Vertailun vuoksi toteutuksen voi tehdä myös jollakin soveltavalla koneoppimismallilla\n",
    "2. Jaa aineisto koulutus- ja testausaineistoon\n",
    "3. Toteuta syväoppiminen valitulla algoritmilla\n",
    "   1. Se voi olla myös kurssin luentojen ulkopuolelta haettu ratkaisu\n",
    "4. Laske luokittelutuloksen ennusteen tarkkuus ja sekaannusmatriisi \n",
    "   1. sekä mahdollisesti muita tunnuslukuja\n",
    "\n",
    "## Tehtävä 4-3\n",
    "### Aihe: Tulosten analysointi (4 p)\n",
    "\n",
    "1. Analysoi ja vertaile malleilla saamiasi oppimistuloksia\n",
    "2. Kuinka syväoppiminen eri menetelmillä sujui valitun aineiston ja valittujen menetelmien kohdalla\n",
    "3. Kuinka hyvin menetelmä toimi?\n",
    "4. Mitä kehitettävää syväoppimismallissa tai esikäsittelyvaiheessa havaitset? \n",
    "   1. dokumentoi mahdolliset kehityskohteet\n",
    "5. Kuinka voisit optimoida syväoppimismallia?\n",
    "6. Muita huomioita tehtävästä?\n",
    "\n"
   ]
  },
  {
   "cell_type": "code",
   "execution_count": 4,
   "id": "2409e776",
   "metadata": {},
   "outputs": [
    {
     "data": {
      "application/vnd.jupyter.widget-view+json": {
       "model_id": "0b3c24d786724fbc8c5242c950a44e16",
       "version_major": 2,
       "version_minor": 0
      },
      "text/plain": [
       "IntSlider(value=7, continuous_update=False, description='Test:', max=10)"
      ]
     },
     "metadata": {},
     "output_type": "display_data"
    }
   ],
   "source": [
    "import ipywidgets as widgets\n",
    "widgets.IntSlider(\n",
    "    value=7,\n",
    "    min=0,\n",
    "    max=10,\n",
    "    step=1,\n",
    "    description='Test:',\n",
    "    disabled=False,\n",
    "    continuous_update=False,\n",
    "    orientation='horizontal',\n",
    "    readout=True,\n",
    "    readout_format='d'\n",
    ")"
   ]
  },
  {
   "cell_type": "code",
   "execution_count": 5,
   "id": "f543710f",
   "metadata": {},
   "outputs": [
    {
     "data": {
      "application/vnd.jupyter.widget-view+json": {
       "model_id": "aaf84daa23d24713b4e2b920ae4d1f46",
       "version_major": 2,
       "version_minor": 0
      },
      "text/plain": [
       "Select(description='OS:', index=2, options=('Linux', 'Windows', 'macOS'), value='macOS')"
      ]
     },
     "metadata": {},
     "output_type": "display_data"
    }
   ],
   "source": [
    "widgets.Select(\n",
    "    options=['Linux', 'Windows', 'macOS'],\n",
    "    value='macOS',\n",
    "    # rows=10,\n",
    "    description='OS:',\n",
    "    disabled=False\n",
    ")"
   ]
  },
  {
   "cell_type": "code",
   "execution_count": 6,
   "id": "5304c8fe",
   "metadata": {},
   "outputs": [
    {
     "data": {
      "application/vnd.jupyter.widget-view+json": {
       "model_id": "0a176421f6a44b1ebff331c60b42ea2f",
       "version_major": 2,
       "version_minor": 0
      },
      "text/plain": [
       "Dropdown(description='Year:', options=(('2010', 1), ('2011', 2), ('2012', 3)), value=1)"
      ]
     },
     "metadata": {},
     "output_type": "display_data"
    }
   ],
   "source": [
    "widgets.Dropdown(\n",
    "    options=[('2010', 1), ('2011', 2), ('2012', 3)],\n",
    "    value=1,\n",
    "    description='Year:',\n",
    ")"
   ]
  },
  {
   "cell_type": "code",
   "execution_count": 7,
   "id": "06364f11",
   "metadata": {
    "scrolled": false
   },
   "outputs": [
    {
     "data": {
      "application/vnd.jupyter.widget-view+json": {
       "model_id": "36349f646eac48d58e0347d95aa2ffbd",
       "version_major": 2,
       "version_minor": 0
      },
      "text/plain": [
       "Dropdown(description='Task:', options=('Addition', 'Multiplication', 'Subtraction', 'Division'), value='Additi…"
      ]
     },
     "metadata": {},
     "output_type": "display_data"
    }
   ],
   "source": [
    "import matplotlib.pyplot as plt\n",
    "from sklearn.linear_model import LinearRegression\n",
    "import numpy as np\n",
    "\n",
    "\n",
    "# tsekkaa \n",
    "# https://kapernikov.com/ipywidgets-with-matplotlib/\n",
    "def piirra():\n",
    "    \n",
    "    plt.clf()\n",
    "    # x from 0 to 30\n",
    "    x = 30 * np.random.random((20, 1))\n",
    "\n",
    "    # y = a*x + b with noise\n",
    "    y = 0.5 * x + 1.0 + np.random.normal(size=x.shape)\n",
    "\n",
    "    # create a linear regression model\n",
    "    model = LinearRegression()\n",
    "    model.fit(x, y)\n",
    "\n",
    "    # predict y from the data\n",
    "    x_new = np.linspace(0, 30, 100)\n",
    "    y_new = model.predict(x_new[:, np.newaxis])\n",
    "\n",
    "    plt.scatter(x, y, color=\"black\")\n",
    "    plt.plot(x_new, y_new, color=\"blue\", linewidth=3)\n",
    "    plt.xlabel('x')\n",
    "    plt.ylabel('y')\n",
    "    #plt.xticks(())\n",
    "    #plt.yticks(())\n",
    "\n",
    "    plt.show()\n",
    "\n",
    "\n",
    "\n",
    "w = widgets.Dropdown(\n",
    "    options=['Addition', 'Multiplication', 'Subtraction', 'Division'],\n",
    "    value='Addition',\n",
    "    description='Task:',\n",
    ")\n",
    "\n",
    "def on_change(change):\n",
    "    if change['type'] == 'change' and change['name'] == 'value':\n",
    "        print(\"changed to %s\" % change['new'])\n",
    "        piirra()\n",
    "\n",
    "w.observe(on_change)\n",
    "\n",
    "display(w)"
   ]
  },
  {
   "cell_type": "code",
   "execution_count": 8,
   "id": "f4719a6f",
   "metadata": {},
   "outputs": [
    {
     "data": {
      "application/vnd.jupyter.widget-view+json": {
       "model_id": "d2d54ddc192147b48b030c22e698ed63",
       "version_major": 2,
       "version_minor": 0
      },
      "text/plain": [
       "IntSlider(value=1, continuous_update=False, description='$\\\\omega$', max=10)"
      ]
     },
     "metadata": {},
     "output_type": "display_data"
    },
    {
     "data": {
      "image/png": "[encoded data removed]",
      "text/plain": [
       "<Figure size 432x288 with 1 Axes>"
      ]
     },
     "metadata": {
      "needs_background": "light"
     },
     "output_type": "display_data"
    },
    {
     "name": "stdout",
     "output_type": "stream",
     "text": [
      "{'name': 'value', 'old': 1, 'new': 7, 'owner': IntSlider(value=7, continuous_update=False, description='$\\\\omega$', max=10), 'type': 'change'}\n",
      "{'name': 'value', 'old': 7, 'new': 4, 'owner': IntSlider(value=4, continuous_update=False, description='$\\\\omega$', max=10), 'type': 'change'}\n"
     ]
    }
   ],
   "source": [
    "x = np.linspace(0, 2 * np.pi, 100)\n",
    " \n",
    "fig, ax = plt.subplots()\n",
    "line, = ax.plot(x, np.sin(x))\n",
    "ax.grid(True)\n",
    " \n",
    "def update(change):\n",
    "    line.set_ydata(np.sin(change.new * x))\n",
    "    fig.canvas.draw()\n",
    "    print(change)\n",
    "     \n",
    "int_slider = widgets.IntSlider(\n",
    "    value=1, \n",
    "    min=0, max=10, step=1,\n",
    "    description='$\\omega$',\n",
    "    continuous_update=False\n",
    ")\n",
    "int_slider.observe(update, 'value')\n",
    "int_slider\n"
   ]
  },
  {
   "cell_type": "code",
   "execution_count": 17,
   "id": "6faa58c3",
   "metadata": {},
   "outputs": [
    {
     "data": {
      "application/vnd.jupyter.widget-view+json": {
       "model_id": "2085a670d9bf466c91315133a099fbe0",
       "version_major": 2,
       "version_minor": 0
      },
      "text/plain": [
       "HBox(children=(VBox(children=(IntSlider(value=1, description='freq', max=10), Text(value='x', continuous_updat…"
      ]
     },
     "metadata": {},
     "output_type": "display_data"
    },
    {
     "data": {
      "image/png": "[encoded data removed]",
      "text/plain": [
       "<Figure size 432x288 with 1 Axes>"
      ]
     },
     "metadata": {
      "needs_background": "light"
     },
     "output_type": "display_data"
    }
   ],
   "source": [
    "output = widgets.Output()\n",
    " \n",
    "# create some x data\n",
    "x = np.linspace(0, 2 * np.pi, 100)\n",
    " \n",
    "# default line color\n",
    "initial_color = '#FF00DD'\n",
    " \n",
    "with output:\n",
    "    fig, ax = plt.subplots(constrained_layout=True, figsize=(6, 4))\n",
    "     \n",
    "# move the toolbar to the bottom\n",
    "fig.canvas.toolbar_position = 'bottom'\n",
    "ax.grid(True)    \n",
    "line, = ax.plot(x, np.sin(x), initial_color)\n",
    "\n",
    "# create some control elements\n",
    "int_slider = widgets.IntSlider(value=1, min=0, max=10, step=1, description='freq')\n",
    "#color_picker = widgets.ColorPicker(value=initial_color, description='pick a color')\n",
    "text_xlabel = widgets.Text(value='', description='xlabel', continuous_update=False)\n",
    "text_ylabel = widgets.Text(value='', description='ylabel', continuous_update=False)\n",
    " \n",
    "# callback functions\n",
    "def update(change):\n",
    "    \"\"\"redraw line (update plot)\"\"\"\n",
    "    line.set_ydata(np.sin(change.new * x))\n",
    "    fig.canvas.draw()\n",
    "     \n",
    "def line_color(change):\n",
    "    \"\"\"set line color\"\"\"\n",
    "    line.set_color(change.new)\n",
    "     \n",
    "def update_xlabel(change):\n",
    "    ax.set_xlabel(change.new)\n",
    "     \n",
    "def update_ylabel(change):\n",
    "    ax.set_ylabel(change.new)\n",
    " \n",
    "# connect callbacks and traits\n",
    "int_slider.observe(update, 'value')\n",
    "#color_picker.observe(line_color, 'value')\n",
    "text_xlabel.observe(update_xlabel, 'value')\n",
    "text_ylabel.observe(update_ylabel, 'value')\n",
    " \n",
    "text_xlabel.value = 'x'\n",
    "text_ylabel.value = 'y'\n",
    "controls = widgets.VBox([int_slider, text_xlabel, text_ylabel])\n",
    "widgets.HBox([controls, output])"
   ]
  },
  {
   "cell_type": "code",
   "execution_count": 20,
   "id": "d61b61bc",
   "metadata": {},
   "outputs": [
    {
     "data": {
      "application/vnd.jupyter.widget-view+json": {
       "model_id": "acc2bd28c95f46648e2e96e00c5ddec2",
       "version_major": 2,
       "version_minor": 0
      },
      "text/plain": [
       "VBox(children=(HBox(children=(Checkbox(value=True, description='Date: '), IntSlider(value=1, continuous_update…"
      ]
     },
     "metadata": {},
     "output_type": "display_data"
    }
   ],
   "source": [
    "import datetime\n",
    "import numpy as np\n",
    "import pandas as pd\n",
    "\n",
    "import plotly.graph_objects as go\n",
    "from ipywidgets import widgets\n",
    "\n",
    "df = pd.read_csv(\n",
    "    'https://raw.githubusercontent.com/yankev/testing/master/datasets/nycflights.csv')\n",
    "df = df.drop(df.columns[[0]], axis=1)\n",
    "\n",
    "df['carrier'].unique()\n",
    "\n",
    "#array(['UA', 'AA', 'B6', 'DL', 'EV', 'MQ', 'US', 'WN', 'VX', 'FL', 'AS',\n",
    "#       '9E', 'F9', 'HA', 'YV', 'OO'], dtype=object)\n",
    "\n",
    "month = widgets.IntSlider(\n",
    "    value=1.0,\n",
    "    min=1.0,\n",
    "    max=12.0,\n",
    "    step=1.0,\n",
    "    description='Month:',\n",
    "    continuous_update=False\n",
    ")\n",
    "\n",
    "use_date = widgets.Checkbox(\n",
    "    description='Date: ',\n",
    "    value=True,\n",
    ")\n",
    "\n",
    "container = widgets.HBox(children=[use_date, month])\n",
    "\n",
    "textbox = widgets.Dropdown(\n",
    "    description='Airline:   ',\n",
    "    value='DL',\n",
    "    options=df['carrier'].unique().tolist()\n",
    ")\n",
    "\n",
    "origin = widgets.Dropdown(\n",
    "    options=list(df['origin'].unique()),\n",
    "    value='LGA',\n",
    "    description='Origin Airport:',\n",
    ")\n",
    "\n",
    "\n",
    "# Assign an empty figure widget with two traces\n",
    "trace1 = go.Histogram(x=df['arr_delay'], opacity=0.75, name='Arrival Delays')\n",
    "trace2 = go.Histogram(x=df['dep_delay'], opacity=0.75, name='Departure Delays')\n",
    "g = go.FigureWidget(data=[trace1, trace2],\n",
    "                    layout=go.Layout(\n",
    "                        title=dict(\n",
    "                            text='NYC FlightDatabase'\n",
    "                        ),\n",
    "                        barmode='overlay'\n",
    "                    ))\n",
    "\n",
    "def validate():\n",
    "    if origin.value in df['origin'].unique() and textbox.value in df['carrier'].unique():\n",
    "        return True\n",
    "    else:\n",
    "        return False\n",
    "\n",
    "\n",
    "def response(change):\n",
    "    if validate():\n",
    "        if use_date.value:\n",
    "            filter_list = [i and j and k for i, j, k in\n",
    "                           zip(df['month'] == month.value, df['carrier'] == textbox.value,\n",
    "                               df['origin'] == origin.value)]\n",
    "            temp_df = df[filter_list]\n",
    "\n",
    "        else:\n",
    "            filter_list = [i and j for i, j in\n",
    "                           zip(df['carrier'] == 'DL', df['origin'] == origin.value)]\n",
    "            temp_df = df[filter_list]\n",
    "        x1 = temp_df['arr_delay']\n",
    "        x2 = temp_df['dep_delay']\n",
    "        with g.batch_update():\n",
    "            g.data[0].x = x1\n",
    "            g.data[1].x = x2\n",
    "            g.layout.barmode = 'overlay'\n",
    "            g.layout.xaxis.title = 'Delay in Minutes'\n",
    "            g.layout.yaxis.title = 'Number of Delays'\n",
    "\n",
    "\n",
    "origin.observe(response, names=\"value\")\n",
    "textbox.observe(response, names=\"value\")\n",
    "month.observe(response, names=\"value\")\n",
    "use_date.observe(response, names=\"value\")\n",
    "\n",
    "container2 = widgets.HBox([origin, textbox])\n",
    "widgets.VBox([container,\n",
    "              container2,\n",
    "              g])\n",
    "\n",
    "import plotly.graph_objects as go # or plotly.express as px\n",
    "fig = go.Figure() # or any Plotly Express function e.g. px.bar(...)\n",
    "# fig.add_trace( ... )\n",
    "# fig.update_layout( ... )\n",
    "\n",
    "import dash\n",
    "import dash_core_components as dcc\n",
    "import dash_html_components as html\n",
    "\n",
    "app = dash.Dash()\n",
    "app.layout = html.Div([\n",
    "    dcc.Graph(figure=fig)\n",
    "])\n",
    "\n",
    "app.run_server(debug=True, use_reloader=False)  # Turn off reloader if inside Jupyter"
   ]
  },
  {
   "cell_type": "code",
   "execution_count": null,
   "id": "9b78239f",
   "metadata": {},
   "outputs": [],
   "source": []
  }
 ],
 "metadata": {
  "jupytext": {
   "cell_metadata_filter": "-all",
   "main_language": "python",
   "notebook_metadata_filter": "-all"
  },
  "kernelspec": {
   "display_name": "Python 3 (ipykernel)",
   "language": "python",
   "name": "python3"
  },
  "language_info": {
   "codemirror_mode": {
    "name": "ipython",
    "version": 3
   },
   "file_extension": ".py",
   "mimetype": "text/x-python",
   "name": "python",
   "nbconvert_exporter": "python",
   "pygments_lexer": "ipython3",
   "version": "3.9.7"
  }
 },
 "nbformat": 4,
 "nbformat_minor": 5
}
