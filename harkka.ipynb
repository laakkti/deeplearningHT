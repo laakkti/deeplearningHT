{
 "cells": [
  {
   "cell_type": "markdown",
   "id": "052ce58c",
   "metadata": {
    "pycharm": {
     "name": "#%% md\n"
    }
   },
   "source": [
    "# Syväoppiminen harjoitustyö (max 15 p)"
   ]
  },
  {
   "cell_type": "code",
   "execution_count": 1,
   "id": "bb31617f",
   "metadata": {
    "pycharm": {
     "name": "#%%\n"
    }
   },
   "outputs": [],
   "source": [
    "# Kirjoita tähän tietosi!\n",
    "student_name = Timo Laakkonen\n",
    "student_id = AA4598"
   ]
  },
  {
   "cell_type": "markdown",
   "id": "7111b022",
   "metadata": {
    "pycharm": {
     "name": "#%% md\n"
    }
   },
   "source": [
    "\n",
    "Tehtävässä vertaillaan eri koneoppimismenetelmät (kuusi eri menetelmää) samalle datalle.\n",
    "Tallennetaan tulokset ja analysoidaan ne.\n",
    "Esitetään tuloksia myös visuaalisesti (Ennustetarkkuus, sekaannusmatriisi, ROC-käyrä).\n",
    "Lisäksi vertaillaan saatuja tuloksia sekä pohditaan tuloksia sanallisesti."
   ]
  },
  {
   "cell_type": "markdown",
   "id": "011b6338",
   "metadata": {},
   "source": [
    "### ML: rajaan aineiston vain suorituksiin, joissa on HR"
   ]
  },
  {
   "cell_type": "code",
   "execution_count": null,
   "id": "ffb52fe1",
   "metadata": {},
   "outputs": [],
   "source": [
    "# KÄytävä kaikki suureet läpi niin selvitetään poikkemat ja virheelliset arvoit"
   ]
  },
  {
   "cell_type": "code",
   "execution_count": 102,
   "id": "3c6bf07c",
   "metadata": {
    "scrolled": false
   },
   "outputs": [
    {
     "name": "stdout",
     "output_type": "stream",
     "text": [
      "4.98199462890625\n",
      "107.5489730834961\n",
      "milloin nämä oli ja mitkä olivat muut arvot tuolloin\n"
     ]
    },
    {
     "data": {
      "text/html": [
       "<div>\n",
       "<style scoped>\n",
       "    .dataframe tbody tr th:only-of-type {\n",
       "        vertical-align: middle;\n",
       "    }\n",
       "\n",
       "    .dataframe tbody tr th {\n",
       "        vertical-align: top;\n",
       "    }\n",
       "\n",
       "    .dataframe thead th {\n",
       "        text-align: right;\n",
       "    }\n",
       "</style>\n",
       "<table border=\"1\" class=\"dataframe\">\n",
       "  <thead>\n",
       "    <tr style=\"text-align: right;\">\n",
       "      <th></th>\n",
       "      <th>Activity Date</th>\n",
       "      <th>Moving Time</th>\n",
       "      <th>Distance</th>\n",
       "      <th>Average Heart Rate</th>\n",
       "      <th>Max Heart Rate</th>\n",
       "      <th>Calories</th>\n",
       "      <th>Activity Name</th>\n",
       "      <th>Average Watts</th>\n",
       "      <th>Activity DateTime</th>\n",
       "      <th>Year</th>\n",
       "      <th>Month</th>\n",
       "      <th>Week</th>\n",
       "      <th>Dayofweek</th>\n",
       "      <th>km/h</th>\n",
       "      <th>diff_max_avg_HR</th>\n",
       "    </tr>\n",
       "  </thead>\n",
       "  <tbody>\n",
       "    <tr>\n",
       "      <th>2263</th>\n",
       "      <td>Aug 21, 2021, 3:21:38 PM</td>\n",
       "      <td>2093.0</td>\n",
       "      <td>15.48</td>\n",
       "      <td>92.451027</td>\n",
       "      <td>200.0</td>\n",
       "      <td>242.0</td>\n",
       "      <td>Evening Ride</td>\n",
       "      <td>304.589111</td>\n",
       "      <td>2021-08-21 15:21:38</td>\n",
       "      <td>2021</td>\n",
       "      <td>8</td>\n",
       "      <td>33</td>\n",
       "      <td>5</td>\n",
       "      <td>26.625896</td>\n",
       "      <td>107.548973</td>\n",
       "    </tr>\n",
       "  </tbody>\n",
       "</table>\n",
       "</div>"
      ],
      "text/plain": [
       "                 Activity Date  Moving Time  Distance  Average Heart Rate  \\\n",
       "2263  Aug 21, 2021, 3:21:38 PM       2093.0     15.48           92.451027   \n",
       "\n",
       "      Max Heart Rate  Calories Activity Name  Average Watts  \\\n",
       "2263           200.0     242.0  Evening Ride     304.589111   \n",
       "\n",
       "       Activity DateTime  Year  Month  Week  Dayofweek       km/h  \\\n",
       "2263 2021-08-21 15:21:38  2021      8    33          5  26.625896   \n",
       "\n",
       "      diff_max_avg_HR  \n",
       "2263       107.548973  "
      ]
     },
     "metadata": {},
     "output_type": "display_data"
    },
    {
     "name": "stdout",
     "output_type": "stream",
     "text": [
      "------------------------------\n"
     ]
    },
    {
     "data": {
      "text/html": [
       "<div>\n",
       "<style scoped>\n",
       "    .dataframe tbody tr th:only-of-type {\n",
       "        vertical-align: middle;\n",
       "    }\n",
       "\n",
       "    .dataframe tbody tr th {\n",
       "        vertical-align: top;\n",
       "    }\n",
       "\n",
       "    .dataframe thead th {\n",
       "        text-align: right;\n",
       "    }\n",
       "</style>\n",
       "<table border=\"1\" class=\"dataframe\">\n",
       "  <thead>\n",
       "    <tr style=\"text-align: right;\">\n",
       "      <th></th>\n",
       "      <th>Activity Date</th>\n",
       "      <th>Moving Time</th>\n",
       "      <th>Distance</th>\n",
       "      <th>Average Heart Rate</th>\n",
       "      <th>Max Heart Rate</th>\n",
       "      <th>Calories</th>\n",
       "      <th>Activity Name</th>\n",
       "      <th>Average Watts</th>\n",
       "      <th>Activity DateTime</th>\n",
       "      <th>Year</th>\n",
       "      <th>Month</th>\n",
       "      <th>Week</th>\n",
       "      <th>Dayofweek</th>\n",
       "      <th>km/h</th>\n",
       "      <th>diff_max_avg_HR</th>\n",
       "    </tr>\n",
       "  </thead>\n",
       "  <tbody>\n",
       "    <tr>\n",
       "      <th>638</th>\n",
       "      <td>Jun 10, 2015, 11:12:49 AM</td>\n",
       "      <td>449.0</td>\n",
       "      <td>3.6</td>\n",
       "      <td>139.018005</td>\n",
       "      <td>144.0</td>\n",
       "      <td>NaN</td>\n",
       "      <td>10/06/2015 Finland</td>\n",
       "      <td>314.135986</td>\n",
       "      <td>2015-06-10 11:12:49</td>\n",
       "      <td>2015</td>\n",
       "      <td>6</td>\n",
       "      <td>24</td>\n",
       "      <td>2</td>\n",
       "      <td>28.864143</td>\n",
       "      <td>4.981995</td>\n",
       "    </tr>\n",
       "  </tbody>\n",
       "</table>\n",
       "</div>"
      ],
      "text/plain": [
       "                 Activity Date  Moving Time  Distance  Average Heart Rate  \\\n",
       "638  Jun 10, 2015, 11:12:49 AM        449.0       3.6          139.018005   \n",
       "\n",
       "     Max Heart Rate  Calories       Activity Name  Average Watts  \\\n",
       "638           144.0       NaN  10/06/2015 Finland     314.135986   \n",
       "\n",
       "      Activity DateTime  Year  Month  Week  Dayofweek       km/h  \\\n",
       "638 2015-06-10 11:12:49  2015      6    24          2  28.864143   \n",
       "\n",
       "     diff_max_avg_HR  \n",
       "638         4.981995  "
      ]
     },
     "metadata": {},
     "output_type": "display_data"
    },
    {
     "name": "stdout",
     "output_type": "stream",
     "text": [
      "pienin ero on selvä tapaus että lyhyt matka suoritetaan tehokkaasti koko matka\n"
     ]
    },
    {
     "data": {
      "text/plain": [
       "111.07"
      ]
     },
     "metadata": {},
     "output_type": "display_data"
    },
    {
     "data": {
      "text/plain": [
       "155.79"
      ]
     },
     "metadata": {},
     "output_type": "display_data"
    },
    {
     "data": {
      "text/plain": [
       "239.0"
      ]
     },
     "metadata": {},
     "output_type": "display_data"
    }
   ],
   "source": [
    "import pandas as pd\n",
    "import matplotlib.pyplot as plt\n",
    "#pd.options.display.max_rows = 4000\n",
    "import warnings\n",
    "warnings.filterwarnings('ignore')\n",
    "\n",
    "# HAE POIKKEMAT YMS:\n",
    "df = pd.read_csv(\"./data/activities.csv\",delimiter=\",\")\n",
    "\n",
    "#print(df.columns)\n",
    "\n",
    "#print(df[:1])\n",
    "\n",
    "# valitaan pyöräily aktiviteetit\n",
    "df = df[df['Activity Type'] == 'Ride']\n",
    "\n",
    "#print(df[1000:1001])\n",
    "\n",
    "\n",
    "df=df[['Activity Date','Moving Time','Distance','Average Heart Rate','Max Heart Rate','Calories','Activity Name','Average Watts']]\n",
    "# muutetaan formaati toiseksi niin on helpompi käsitellä\n",
    "df['Activity DateTime']=pd.to_datetime(df['Activity Date'])\n",
    "\n",
    "# lisätään pari kenttää\n",
    "df['Year'] = df['Activity DateTime'].dt.year\n",
    "df['Month'] = df['Activity DateTime'].dt.month\n",
    "df['Week'] = df['Activity DateTime'].dt.week\n",
    "df['Dayofweek'] = df['Activity DateTime'].dt.dayofweek\n",
    "\n",
    "df['km/h'] = df['Distance'] / (df['Moving Time'] / 3600)\n",
    "\n",
    "#df[\"Max Heart Rate\"].fillna(0,inplace=True)\n",
    "#df[\"Average Heart Rate\"].fillna(0,inplace=True)\n",
    "\n",
    "#df[\"Max Heart Rate\"].dropna()\n",
    "df2=df.copy()\n",
    "#df2=df2[[\"Max Heart Rate\",\"Average Heart Rate\"]]\n",
    "\n",
    "#### HUOM\n",
    "#df2.dropna(inplace=True)\n",
    "## HR vain datasta/aineistosta jolloin mittaus on ollut käytössä\n",
    "df2['diff_max_avg_HR']=df[\"Max Heart Rate\"]-df[\"Average Heart Rate\"]\n",
    "min=df2['diff_max_avg_HR'].min()\n",
    "print(min)\n",
    "max=df2['diff_max_avg_HR'].max()\n",
    "print(max)\n",
    "print(\"milloin nämä oli ja mitkä olivat muut arvot tuolloin\")\n",
    "result=df2.loc[df2['diff_max_avg_HR']==max]\n",
    "display(result)\n",
    "print(\"------------------------------\")\n",
    "result=df2.loc[df2['diff_max_avg_HR']==min]\n",
    "display(result)\n",
    "print(\"pienin ero on selvä tapaus että lyhyt matka suoritetaan tehokkaasti koko matka\")\n",
    "\n",
    "\n",
    "\n",
    "#print(df[:1])\n",
    "#print(df.columns)\n",
    "display(round(df[\"Distance\"].max(),2))\n",
    "display(round(df[\"Average Heart Rate\"].max(),2))\n",
    "display(round(df[\"Max Heart Rate\"].max(),2))\n",
    "#display(round(df.mean(),0))\n",
    "#display(df.min())\n",
    "#display(df.max())"
   ]
  },
  {
   "cell_type": "markdown",
   "id": "a3376c2f",
   "metadata": {},
   "source": [
    "### season talvi kevät.... oletus että avg.speed laskee muulloin kuin kesällä nastarenkaat ja vaatetus\n",
    "TEE FUNKTIOITA siten että eri uureet ja korrelaatiot voidaan völitää parametreina!!!!"
   ]
  },
  {
   "cell_type": "code",
   "execution_count": null,
   "id": "79c0fff6",
   "metadata": {},
   "outputs": [],
   "source": []
  },
  {
   "cell_type": "code",
   "execution_count": 103,
   "id": "d7227af8",
   "metadata": {
    "scrolled": false
   },
   "outputs": [
    {
     "name": "stdout",
     "output_type": "stream",
     "text": [
      "[13761.640000000001, 17331.01, 18928.79, 10263.69]\n",
      "(2502, 16)\n"
     ]
    },
    {
     "data": {
      "text/html": [
       "<div>\n",
       "<style scoped>\n",
       "    .dataframe tbody tr th:only-of-type {\n",
       "        vertical-align: middle;\n",
       "    }\n",
       "\n",
       "    .dataframe tbody tr th {\n",
       "        vertical-align: top;\n",
       "    }\n",
       "\n",
       "    .dataframe thead th {\n",
       "        text-align: right;\n",
       "    }\n",
       "</style>\n",
       "<table border=\"1\" class=\"dataframe\">\n",
       "  <thead>\n",
       "    <tr style=\"text-align: right;\">\n",
       "      <th></th>\n",
       "      <th>Season</th>\n",
       "      <th>Distance</th>\n",
       "    </tr>\n",
       "  </thead>\n",
       "  <tbody>\n",
       "    <tr>\n",
       "      <th>0</th>\n",
       "      <td>Spring</td>\n",
       "      <td>13761.64</td>\n",
       "    </tr>\n",
       "    <tr>\n",
       "      <th>1</th>\n",
       "      <td>Summer</td>\n",
       "      <td>17331.01</td>\n",
       "    </tr>\n",
       "    <tr>\n",
       "      <th>2</th>\n",
       "      <td>Autumn</td>\n",
       "      <td>18928.79</td>\n",
       "    </tr>\n",
       "    <tr>\n",
       "      <th>3</th>\n",
       "      <td>Winter</td>\n",
       "      <td>10263.69</td>\n",
       "    </tr>\n",
       "  </tbody>\n",
       "</table>\n",
       "</div>"
      ],
      "text/plain": [
       "   Season  Distance\n",
       "0  Spring  13761.64\n",
       "1  Summer  17331.01\n",
       "2  Autumn  18928.79\n",
       "3  Winter  10263.69"
      ]
     },
     "metadata": {},
     "output_type": "display_data"
    },
    {
     "data": {
      "image/png": "[encoded data removed]",
      "text/plain": [
       "<Figure size 1224x432 with 1 Axes>"
      ]
     },
     "metadata": {},
     "output_type": "display_data"
    }
   ],
   "source": [
    "import seaborn as sns\n",
    "\n",
    "###HUOM\n",
    "\n",
    "# TEE FUNKTIO\n",
    "\n",
    "def dropNanRowByColumn(df,column):\n",
    "\n",
    "    rowsToDrop = df.loc[(df[column].isnull())].index\n",
    "    df.drop(rowsToDrop,inplace=True) \n",
    "\n",
    "    \n",
    "column=\"Distance\"\n",
    "dropNanRowByColumn(df2,column)\n",
    "#print(df2[column])\n",
    "\n",
    "\n",
    "\n",
    "df2['Season'] = ''\n",
    "\"\"\"\n",
    "df2.loc[(df2[\"Month\"].isin([\"March\", \"April\", \"May\"])), 'Season'] = 'Spring'\n",
    "df2.loc[(df2[\"Month\"].isin([\"June\", \"July\", \"August\"])), 'Season'] = 'Summer'\n",
    "df2.loc[(df2[\"Month\"].isin([\"September\", \"October\", \"November\"])), 'Season'] = 'Autumn'\n",
    "df2.loc[(df2[\"Month\"].isin([\"December\", \"January\", \"February\"])), 'Season'] = 'Winter'\n",
    "\"\"\"\n",
    "seasons=['Spring','Summer','Autumn','Winter']\n",
    "\n",
    "df2.loc[(df2[\"Month\"]>=3) & (df2[\"Month\"]<=5), 'Season'] = seasons[0]\n",
    "df2.loc[(df2[\"Month\"]>=6) & (df2[\"Month\"]<=8), 'Season'] = seasons[1]\n",
    "df2.loc[(df2[\"Month\"]>=9) & (df2[\"Month\"]<=11), 'Season'] = seasons[2]\n",
    "df2.loc[(df2[\"Month\"]>=1) & (df2[\"Month\"]<=2), 'Season'] = seasons[3]\n",
    "df2.loc[df2[\"Month\"]==12, 'Season'] = seasons[3]\n",
    "    \n",
    "## varmistetaan että distance kentässä on arvo\n",
    "\n",
    "    \n",
    "    \n",
    "    \n",
    "#display(df.isna().sum())\n",
    "\n",
    "#### HUOMIOITAVA että NaN tapauksesta riipuen ei tule mukaan\n",
    "\n",
    "#print(df2[:100])\n",
    "distanceSum=[]\n",
    "for i in range(len(seasons)):\n",
    "    dfx=df2.loc[df2[\"Season\"]==seasons[i]]\n",
    "    distanceSum.append(dfx['Distance'].sum())\n",
    "\n",
    "print(distanceSum)    \n",
    "\n",
    "print(df2.shape)\n",
    "\n",
    "sns.set_style('dark')\n",
    "plt.figure()\n",
    "#distance=np.array(distance)\n",
    "#print(distance)\n",
    "data={'Season':seasons,'Distance':distanceSum}\n",
    "data = pd.DataFrame(data)\n",
    "display(data)\n",
    "\n",
    "sns.barplot(x='Season', y='Distance', data=data, ci=None, color='navy',dodge=False)\n",
    "#sns.barplot(x='Month', y='Distance', data=df, hue='Month', ci=None, estimator=np.sum, palette = 'rocket',dodge=False)\n",
    "plt.gcf().set_size_inches(17, 6)\n"
   ]
  },
  {
   "cell_type": "code",
   "execution_count": 105,
   "id": "c9b9c13b",
   "metadata": {
    "scrolled": false
   },
   "outputs": [
    {
     "name": "stdout",
     "output_type": "stream",
     "text": [
      "49.982948303222656\n",
      "273.99356960428173\n",
      "609.4481811523438\n"
     ]
    }
   ],
   "source": [
    "# km/h Distance HR Calories Relative Effort  Min/max  Max-min/4 eli kaikissa 4 luokkaa 1-4\n",
    "\n",
    "# kun haetaan min max niin tsekataan koska on tahtuntu ja mitä muut siuureet ovat on season talvi kesä tms.\n",
    "\n",
    "column='Average Watts'\n",
    "dropNanRowByColumn(df2,column)\n",
    "\n",
    "print(df2['Average Watts'].min())\n",
    "print(df2['Average Watts'].mean())\n",
    "print(df2['Average Watts'].max())"
   ]
  },
  {
   "cell_type": "markdown",
   "id": "bf821d64",
   "metadata": {},
   "source": [
    "Machine Learning \n",
    "Seuraavassa huono ja liian ennustettava target suure\n",
    "https://github.com/mocchicone/Strava-Fitness-Analysis Käännöö suomeksi hyvii juttui\n",
    "https://public.tableau.com/app/profile/john.bruner/viz/FitnessTrackingOverviewFinal/FitnessTrackingDataOverview\n",
    "https://github.com/mocchicone/Strava-Fitness-Analysis/blob/master/Fitness%20Tracking%20Machine%20Learning.pdf\n",
    "\n",
    "Tästä saa jutun aihetta analyysiin ja statiikkaan sääolosuhteet viikonloppu eri päivkohtaiset season kohtaiset    \n",
    "https://towardsdatascience.com/data-driven-cycling-and-workout-prediction-72c393e2542c\n",
    "\n",
    "Koska sää vaikuttaa huomatavasti suorituarvoihin niin olen ajkanut suoritukset (seasons)\n",
    "Olisi hyvä lisätä säähän liittyviä tieto (ehkä Stravan maksettu versio pitää sisällään nuokin)\n",
    "https://www.meteomatics.com/en/weather-api/\n",
    "https://openweathermap.org/api    \n",
    "Ehkäpä edelliset kehitettävään osastoon\n",
    "\n",
    "Etäisyysennustus siis distance\n",
    "Linear Regression \n",
    "\n",
    "Onko regressio korrelaatio kahden suureen välillä ?????\n",
    "Regression voinee tehdä ainestolle joka on rajattu tsekkaa.ipynb esim. huippu vuiden kuukausi tarkastelu\n"
   ]
  },
  {
   "cell_type": "code",
   "execution_count": 108,
   "id": "91c2ab91",
   "metadata": {
    "scrolled": false
   },
   "outputs": [
    {
     "name": "stdout",
     "output_type": "stream",
     "text": [
      "                  Activity Date  Moving Time  Distance  Average Heart Rate  \\\n",
      "629    Jun 3, 2015, 11:53:55 AM        544.0      5.72          135.869003   \n",
      "2057  Jun 26, 2014, 12:48:12 PM       4565.0     63.81                 NaN   \n",
      "\n",
      "      Max Heart Rate     Calories                              Activity Name  \\\n",
      "629            146.0          NaN  03/06/2015 Torremolinos, Andalucía, Spain   \n",
      "2057             NaN  3102.075195                             Afternoon Ride   \n",
      "\n",
      "      Average Watts   Activity DateTime  Year  Month  Week  Dayofweek  \\\n",
      "629      457.566010 2015-06-03 11:53:55  2015      6    23          2   \n",
      "2057     609.448181 2014-06-26 12:48:12  2014      6    26          3   \n",
      "\n",
      "           km/h  diff_max_avg_HR  Season  \n",
      "629   37.852941        10.130997  Summer  \n",
      "2057  50.321139              NaN  Summer  \n"
     ]
    }
   ],
   "source": [
    "# max-arvo on ehdottomasti aivan liikaa >400 on arvo virheellinen 350-400 täytyy olla lyhyt pyrys jolloin nopeus suuri\n",
    "errorData=df2.loc[df2['Average Watts']>380]\n",
    "print(errorData)"
   ]
  },
  {
   "cell_type": "code",
   "execution_count": null,
   "id": "f33a3473",
   "metadata": {},
   "outputs": [],
   "source": [
    "ML pitää vissiin olla integer jota ennustetaan eli pitää olla luokitus tee luokitus \n",
    "mitä suuretta halutaankin ennustaa  SAADAANKO monta suuretta kun yhtä tietoa ennustetaan eli silloihna pitää \n",
    "inputissa olla ne suureet eli kaikki suureet annetaava???? onko??? ehkä silloin itää tehdä malli vajailla arvoilla, \n",
    "puuttuvaa arvoa muuta kuinn haettavaa ei voida lisäksi ennustaa!!!!\n",
    "\n",
    "\n",
    "Graafien tulkintaa ja maininta että visualisointi on tärkeää jotta silmäyksellä näkee mihin suuntaan data...\n",
    "What about heatmap voidaanko soveltaa johonkin\n",
    "\n",
    "# Luokittelu\n",
    "\n"
   ]
  },
  {
   "cell_type": "code",
   "execution_count": 110,
   "id": "58809cf8",
   "metadata": {},
   "outputs": [
    {
     "name": "stdout",
     "output_type": "stream",
     "text": [
      "[[ 6]\n",
      " [16]\n",
      " [26]\n",
      " [36]\n",
      " [46]\n",
      " [56]]\n",
      "coefficient of determination: 0.5417910447761193\n",
      "intercept: 4.026666666666667\n",
      "slope: [0.44]\n",
      "Predicted response:\n",
      "[ 6.66666667 11.06666667 15.46666667 19.86666667 24.26666667 28.66666667]\n"
     ]
    }
   ],
   "source": [
    "# Import the packages and classes needed in this example:\n",
    "import numpy as np\n",
    "from sklearn.linear_model import LinearRegression\n",
    "\n",
    "# Create a numpy array of data:\n",
    "x = np.array([6, 16, 26, 36, 46, 56]).reshape((-1, 1))\n",
    "\n",
    "print(x)\n",
    "\n",
    "y = np.array([4, 23, 10, 12, 22, 35])\n",
    "\n",
    "# Create an instance of a linear regression model and fit it to the data with the fit() function:\n",
    "model = LinearRegression().fit(x, y) \n",
    "\n",
    "# The following section will get results by interpreting the created instance: \n",
    "\n",
    "# Obtain the coefficient of determination by calling the model with the score() function, then print the coefficient:\n",
    "r_sq = model.score(x, y)\n",
    "print('coefficient of determination:', r_sq)\n",
    "\n",
    "# Print the Intercept:\n",
    "print('intercept:', model.intercept_)\n",
    "\n",
    "# Print the Slope:\n",
    "print('slope:', model.coef_) \n",
    "\n",
    "# Predict a Response and print it:\n",
    "y_pred = model.predict(x)\n",
    "print('Predicted response:', y_pred, sep='\\n')"
   ]
  },
  {
   "cell_type": "code",
   "execution_count": null,
   "id": "77a54804",
   "metadata": {},
   "outputs": [],
   "source": []
  }
 ],
 "metadata": {
  "jupytext": {
   "cell_metadata_filter": "-all",
   "main_language": "python",
   "notebook_metadata_filter": "-all"
  },
  "kernelspec": {
   "display_name": "Python 3 (ipykernel)",
   "language": "python",
   "name": "python3"
  },
  "language_info": {
   "codemirror_mode": {
    "name": "ipython",
    "version": 3
   },
   "file_extension": ".py",
   "mimetype": "text/x-python",
   "name": "python",
   "nbconvert_exporter": "python",
   "pygments_lexer": "ipython3",
   "version": "3.9.7"
  }
 },
 "nbformat": 4,
 "nbformat_minor": 5
}
