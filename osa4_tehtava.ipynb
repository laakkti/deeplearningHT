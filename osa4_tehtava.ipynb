{
 "cells": [
  {
   "cell_type": "markdown",
   "id": "a19914a9",
   "metadata": {},
   "source": [
    "Tämä harjoitustyö oli hyödyllinen, että tuli kerrattua ja virkistettyä muistia monenkin kurssiosan ja tehtvien ratkaisuja\n",
    "Minulle tämä oli kun oli tavaölaan henk. kohtaista dataa eli pyöräilyaktiviteetteja\n",
    "\n",
    "Ylimääräistä päänvaivaa lisäsi data-aineiston puutteet tiettyjen suureiden osalta, myös oman luokituksen tekeminen \n",
    "myös haastavaa, mutta antoisaa ;)\n",
    "Oli lopulta opettvainen prosessi vaikkain varisnain syvöoppiminen oli lähennä meLearning\n",
    "deepkearnig -> meLearinng syväluotaus ja analytiikkaa omiin suorituksiin liittyen\n",
    "En ole aivan varma osuiko kaikki ilmaisut ihan kohdilleen.\n",
    "\n"
   ]
  },
  {
   "cell_type": "markdown",
   "id": "00c085e4",
   "metadata": {},
   "source": [
    "# Osa 4 - Syväoppiminen harjoitustyö (15 p)\n",
    "\n",
    "\n",
    "## Tehtävä 4-1\n",
    "### Aihe: Syväoppimisen toteutussuunnitelma + aineiston valinta (3 p)\n",
    "\n",
    "1. Valitse aineistosi tehtävään vapaasti esimerkiksi oman kiinnostuksen tai työn pohjalta. \n",
    "   1. Tutustu aineistoon kunnolla\n",
    "2. Esikäsittele data \n",
    "   1. Optimoi koneoppimismallille syötettävää dataa\n",
    "   2. voit poistaa \"tarpeettomat piirteet\" oman harkinnan mukaan\n",
    "   3. poikkeavien tai tyhjien data-arvojen käsittely\n",
    "3. Normalisoi data \n",
    "   1. Valitse sopiva skaalaustapa\n",
    "4. Valitse luokkamuuttuja \n",
    "5. Visualisoi dataa muutamilla eri kuvioilla. \n"
   ]
  },
  {
   "cell_type": "markdown",
   "id": "f9e12883",
   "metadata": {},
   "source": [
    "## Tehtävä 4-2 POISTA tämä lopussa\n",
    "### Aihe: Syväoppimisen toteutus (8 p)\n",
    "\n",
    "1. Valitse sovellettava(t) syväoppimismalli(t) tehtävää varten\n",
    "   1. Voit kokeilla esim. kahta eri tapaa\n",
    "   2. Hyperparametrien kokeileminen parempien tuloksien saamiseksi on myös suotavaa\n",
    "   3. Vertailun vuoksi toteutuksen voi tehdä myös jollakin soveltavalla koneoppimismallilla\n",
    "2. Jaa aineisto koulutus- ja testausaineistoon\n",
    "3. Toteuta syväoppiminen valitulla algoritmilla\n",
    "   1. Se voi olla myös kurssin luentojen ulkopuolelta haettu ratkaisu\n",
    "4. Laske luokittelutuloksen ennusteen tarkkuus ja sekaannusmatriisi \n",
    "   1. sekä mahdollisesti muita tunnuslukuja"
   ]
  },
  {
   "cell_type": "markdown",
   "id": "29e15cef",
   "metadata": {},
   "source": [
    "## Tehtävä 4-3\n",
    "### Aihe: Tulosten analysointi (4 p)\n",
    "\n",
    "1. Analysoi ja vertaile malleilla saamiasi oppimistuloksia\n",
    "2. Kuinka syväoppiminen eri menetelmillä sujui valitun aineiston ja valittujen menetelmien kohdalla\n",
    "3. Kuinka hyvin menetelmä toimi?\n",
    "4. Mitä kehitettävää syväoppimismallissa tai esikäsittelyvaiheessa havaitset? \n",
    "   1. dokumentoi mahdolliset kehityskohteet\n",
    "5. Kuinka voisit optimoida syväoppimismallia?\n",
    "6. Muita huomioita tehtävästä?"
   ]
  },
  {
   "cell_type": "markdown",
   "id": "09cb3ae8",
   "metadata": {},
   "source": [
    "\n",
    "# Pyöräily aktiviteettien analytikkaa"
   ]
  },
  {
   "cell_type": "markdown",
   "id": "0165c0ea",
   "metadata": {},
   "source": [
    "Joskus haluaisi pyöräilyaktiviteeteista tietoja/yhteenvetoja/vertailuja, joita Strava-palvelun ilmainen versio ei tarjoa."
   ]
  },
  {
   "cell_type": "markdown",
   "id": "f32ad4a4",
   "metadata": {},
   "source": [
    "### Aineisto\n",
    "\n",
    "Aineistoksi valitsin oman pyöräilyaktiviteetit viimeisen 10 vuoden ajalta. \\\n",
    "Data on tallenettu Strava-palveluun \\\n",
    "https://www.strava.com  \\\n",
    "Data saadaan tilattua zip-pakettina sähköpostiin.\n"
   ]
  },
  {
   "cell_type": "markdown",
   "id": "b846c601",
   "metadata": {},
   "source": [
    "### Datan esikäsittely   \n",
    "Ennen esikäsittelyä tulee määrittää mitä datalla halutaan tehdä, mikä on päämäärä. \\\n",
    "Esikäsittelyä ei välttämättä tehdä heti alkuun kokonaan vaan tarpeen mukaan ja tapauskohtaisesti. \\\n",
    "Kone- ja syväoppimisen tulosten kannalta on tärkeää, että 1. vaiheen eli esikäsittelyn tuloksena data on \\\n",
    "virheetöntä ja eheää. Mikään menetelmä ei osaa korvata/korjata huonosti valmisteltua aineistoa/dataa. \\\n",
    "Tämän tehtävän esikäsittelyn yksi tarkoitus on selvittää ja määrittää se mihin suureisiin aineiston aktiviteettien \\\n",
    "hyvyysluokitus voidaan perustaa. Tarkoituksena on luokitella aktiviteetit kouluarosanoin 0-5.\\\n",
    "Luokituksen vuoksi keskitytään sen kannalta oleellisiin suureisiin."
   ]
  },
  {
   "cell_type": "code",
   "execution_count": 94,
   "id": "1e3a6d6d",
   "metadata": {
    "scrolled": false
   },
   "outputs": [
    {
     "name": "stdout",
     "output_type": "stream",
     "text": [
      "Pyöräilyaktiviteetteja yhteensä 2502\n",
      "\n",
      "Eri kenttien NaN -arvojen summat:\n"
     ]
    },
    {
     "data": {
      "text/plain": [
       "Activity ID              0\n",
       "Activity Name            0\n",
       "Activity Date            0\n",
       "Moving Time              0\n",
       "Distance                 0\n",
       "Average Speed         1642\n",
       "Average Heart Rate    1305\n",
       "Max Heart Rate        1301\n",
       "Average Watts           37\n",
       "Calories               656\n",
       "dtype: int64"
      ]
     },
     "metadata": {},
     "output_type": "display_data"
    }
   ],
   "source": [
    "import pandas as pd\n",
    "import matplotlib.pyplot as plt\n",
    "import seaborn as sns\n",
    "from sklearn.model_selection import train_test_split\n",
    "import numpy as np\n",
    "import warnings\n",
    "warnings.filterwarnings('ignore')\n",
    "pd.options.display.max_rows = 4000\n",
    "\n",
    "df = pd.read_csv(\"./data/activities.csv\",delimiter=\",\")\n",
    "\n",
    "# valitaan nimenomaan pyöräily aktiviteetit\n",
    "df = df[df['Activity Type'] == 'Ride']\n",
    "\n",
    "columns=['Activity ID','Activity Name','Activity Date','Moving Time','Distance','Average Speed','Average Heart Rate','Max Heart Rate','Average Watts','Calories']\n",
    "df=df[columns]\n",
    "\n",
    "\n",
    "# tutkitaan aluksi NaN kentät\n",
    "# näiden suodatus datasta tehdään tapauskohtaisesti\n",
    "print(f'Pyöräilyaktiviteetteja yhteensä {df.shape[0]}')\n",
    "print()\n",
    "print(\"Eri kenttien NaN -arvojen summat:\")\n",
    "display(df.isna().sum())\n"
   ]
  },
  {
   "cell_type": "markdown",
   "id": "2a3b9d79",
   "metadata": {},
   "source": [
    "Datan puutteet näyttävät pahoilta usean suureen osalta. Tehtävän kannalta ne eivät ole kuitenkaan oleellisia vaan \\\n",
    "antaisivat ollessaan pientä lisäarvoa. Koska tarkoituksena on huomioida aktiviteettien dataa ajalta 2012-2022, \\\n",
    "niin poistetaan ko. kenttien huomioiminen. \\\n",
    "Seuraavassa kuitenkin selvitystä siitä mistä puutteet saattavat johtua."
   ]
  },
  {
   "cell_type": "markdown",
   "id": "a179a5c7",
   "metadata": {},
   "source": [
    "#### Average Speed"
   ]
  },
  {
   "cell_type": "markdown",
   "id": "92519ecc",
   "metadata": {},
   "source": [
    "Puutteet datassa johtunee siitä, että osa datasta on siirretty toisesta palvelusta Strava-palveluun \\\n",
    "ja ko. suuretta palvelu ei ole laskenut vaan laskee sen ainostaan heti uuden aktiviteetin latauksen yhteydessä."
   ]
  },
  {
   "cell_type": "markdown",
   "id": "25c021f3",
   "metadata": {},
   "source": [
    "<div style=\"background-color:GhostWhite;padding-left:10px\">    \n",
    "\n",
    "Koska 'Average Speed' sarakkeessa on aivan liikaa puuttuvaa dataa, analyysit jäisivät sen osalta paljon suppeammiksi. <br>\n",
    "Onneksi arvot voidaan korvata johtamalla/laskemalla ne 'Distance' ja 'Moving Time' kenttien arvoista, <br> \n",
    "samalla sarakkeiden arvot tulevat olemaan tutumpaa muotoa km/h.\n",
    "</div>"
   ]
  },
  {
   "cell_type": "code",
   "execution_count": 100,
   "id": "0edb26b8",
   "metadata": {},
   "outputs": [],
   "source": [
    "df['Average Speed']=df['Distance'] / (df['Moving Time'] / 3600)"
   ]
  },
  {
   "cell_type": "markdown",
   "id": "6d3b4255",
   "metadata": {},
   "source": [
    "#### Heart Rate (Average, Max)"
   ]
  },
  {
   "cell_type": "markdown",
   "id": "4e0bd649",
   "metadata": {},
   "source": [
    "Puutteet datassa yksinkertaisesti johtuu siitä ettei sykemittausta ole ollut käytössä kaikkina kertoina."
   ]
  },
  {
   "cell_type": "markdown",
   "id": "2e2b1835",
   "metadata": {},
   "source": [
    "#### Average Watts"
   ]
  },
  {
   "cell_type": "markdown",
   "id": "2624c8eb",
   "metadata": {},
   "source": [
    "Ei varsinaista selitystä, kysessä on palvelun laskema estimaatti, joka on jäänyt laskematta syystä tai toisesta."
   ]
  },
  {
   "cell_type": "markdown",
   "id": "4554380a",
   "metadata": {},
   "source": [
    "#### Calories"
   ]
  },
  {
   "cell_type": "markdown",
   "id": "75e1af61",
   "metadata": {},
   "source": [
    "Samoin kuin 'Average Watts' kyseessä on palvelun laskema estimaatti, joka on syystä tai toisesta jäänyt laskematta. "
   ]
  },
  {
   "cell_type": "code",
   "execution_count": 103,
   "id": "95a796a3",
   "metadata": {},
   "outputs": [
    {
     "data": {
      "text/plain": [
       "Activity Name    0\n",
       "Activity Date    0\n",
       "Moving Time      0\n",
       "Distance         0\n",
       "Average Speed    0\n",
       "Average Watts    0\n",
       "dtype: int64"
      ]
     },
     "metadata": {},
     "output_type": "display_data"
    },
    {
     "data": {
      "text/plain": [
       "2465"
      ]
     },
     "metadata": {},
     "output_type": "display_data"
    }
   ],
   "source": [
    "# poistetaan em. vuoksi eräitä sarakkeita dataframesta\n",
    "df2 = df.drop(['Activity ID','Max Heart Rate','Average Heart Rate','Calories'], axis=1)\n",
    "# poistetaan ne rivit joissa 'Average Watts' on NaN\n",
    "rowsToDrop = df2.loc[(df2['Average Watts'].isnull())].index\n",
    "df2.drop(rowsToDrop,inplace=True) \n",
    "display(df2.isna().sum())\n",
    "display(df2.shape[0])"
   ]
  },
  {
   "cell_type": "markdown",
   "id": "3f1c3ce2",
   "metadata": {},
   "source": [
    "Nyt näyttää hyvältä"
   ]
  },
  {
   "cell_type": "markdown",
   "id": "838652ba",
   "metadata": {},
   "source": [
    "### Poikkeavat arvot\n",
    "Esim. seaborn regplot-metodilla voidaan visualisoida dataa hyvin yksinkertaisesti. \\\n",
    "Graafista voidaan helposti huomata poikkeavat arvot."
   ]
  },
  {
   "cell_type": "markdown",
   "id": "c931867b",
   "metadata": {},
   "source": []
  },
  {
   "cell_type": "code",
   "execution_count": 107,
   "id": "b42d50ce",
   "metadata": {
    "scrolled": false
   },
   "outputs": [
    {
     "data": {
      "image/png": "[encoded data removed]",
      "text/plain": [
       "<Figure size 432x288 with 1 Axes>"
      ]
     },
     "metadata": {},
     "output_type": "display_data"
    },
    {
     "name": "stdout",
     "output_type": "stream",
     "text": [
      "(2465, 6)\n"
     ]
    }
   ],
   "source": [
    "def regplot(df,columns):\n",
    "    sns.set_style('dark')\n",
    "    plt.figure()\n",
    "    \n",
    "    #plt.gcf().set_size_inches(17, 10)\n",
    "    columns=columns\n",
    "    sns.regplot(x = columns[0] , \n",
    "                    y = columns[1], \n",
    "                    data = df,scatter_kws={\"color\": \"orange\",'s':10}, line_kws={\"color\": \"black\"},ci=None)\n",
    "    plt.show()\n",
    "    \n",
    "regplot(df2,['Distance','Average Speed'])\n",
    "print(df2.shape)"
   ]
  },
  {
   "cell_type": "markdown",
   "id": "f8393a65",
   "metadata": {},
   "source": [
    "Huomataan, että muutama nopeus-arvo on liian suuri. \\\n",
    "Koska edellä Average Speed johdettiin Distance ja 'Moving Time' arvoista niin jompi kumpi on kirjautunut väärin. \\\n",
    "Kyseiset datarivit poistetaan koska emme halua virheellistä dataa analyyseihin vääristämään tulosta. \\\n",
    "Tiedän kokemuksesta, että yli 36km/h keskinopeus on pielessä ellei ole kysymys hyvin lyhyestä testistä, jos näin niin \\\n",
    "ei kelpuuteta analyyseihin erityistapauksia. \\\n",
    "Tulostetaan kaikki yli 36 km/h suoritukset, sekä alle 5km pituiset suoritukset."
   ]
  },
  {
   "cell_type": "code",
   "execution_count": 108,
   "id": "567d1b96",
   "metadata": {
    "scrolled": false
   },
   "outputs": [
    {
     "data": {
      "text/html": [
       "<div>\n",
       "<style scoped>\n",
       "    .dataframe tbody tr th:only-of-type {\n",
       "        vertical-align: middle;\n",
       "    }\n",
       "\n",
       "    .dataframe tbody tr th {\n",
       "        vertical-align: top;\n",
       "    }\n",
       "\n",
       "    .dataframe thead th {\n",
       "        text-align: right;\n",
       "    }\n",
       "</style>\n",
       "<table border=\"1\" class=\"dataframe\">\n",
       "  <thead>\n",
       "    <tr style=\"text-align: right;\">\n",
       "      <th></th>\n",
       "      <th>Activity Name</th>\n",
       "      <th>Activity Date</th>\n",
       "      <th>Moving Time</th>\n",
       "      <th>Distance</th>\n",
       "      <th>Average Speed</th>\n",
       "      <th>Average Watts</th>\n",
       "    </tr>\n",
       "  </thead>\n",
       "  <tbody>\n",
       "    <tr>\n",
       "      <th>629</th>\n",
       "      <td>03/06/2015 Torremolinos, Andalucía, Spain</td>\n",
       "      <td>Jun 3, 2015, 11:53:55 AM</td>\n",
       "      <td>544.0</td>\n",
       "      <td>5.72</td>\n",
       "      <td>37.852941</td>\n",
       "      <td>457.566010</td>\n",
       "    </tr>\n",
       "    <tr>\n",
       "      <th>1929</th>\n",
       "      <td>Evening Ride</td>\n",
       "      <td>May 25, 2012, 4:36:48 PM</td>\n",
       "      <td>971.0</td>\n",
       "      <td>11.55</td>\n",
       "      <td>42.821833</td>\n",
       "      <td>203.528549</td>\n",
       "    </tr>\n",
       "    <tr>\n",
       "      <th>2057</th>\n",
       "      <td>Afternoon Ride</td>\n",
       "      <td>Jun 26, 2014, 12:48:12 PM</td>\n",
       "      <td>4565.0</td>\n",
       "      <td>63.81</td>\n",
       "      <td>50.321139</td>\n",
       "      <td>609.448181</td>\n",
       "    </tr>\n",
       "  </tbody>\n",
       "</table>\n",
       "</div>"
      ],
      "text/plain": [
       "                                  Activity Name              Activity Date  \\\n",
       "629   03/06/2015 Torremolinos, Andalucía, Spain   Jun 3, 2015, 11:53:55 AM   \n",
       "1929                               Evening Ride   May 25, 2012, 4:36:48 PM   \n",
       "2057                             Afternoon Ride  Jun 26, 2014, 12:48:12 PM   \n",
       "\n",
       "      Moving Time  Distance  Average Speed  Average Watts  \n",
       "629         544.0      5.72      37.852941     457.566010  \n",
       "1929        971.0     11.55      42.821833     203.528549  \n",
       "2057       4565.0     63.81      50.321139     609.448181  "
      ]
     },
     "metadata": {},
     "output_type": "display_data"
    },
    {
     "data": {
      "text/html": [
       "<div>\n",
       "<style scoped>\n",
       "    .dataframe tbody tr th:only-of-type {\n",
       "        vertical-align: middle;\n",
       "    }\n",
       "\n",
       "    .dataframe tbody tr th {\n",
       "        vertical-align: top;\n",
       "    }\n",
       "\n",
       "    .dataframe thead th {\n",
       "        text-align: right;\n",
       "    }\n",
       "</style>\n",
       "<table border=\"1\" class=\"dataframe\">\n",
       "  <thead>\n",
       "    <tr style=\"text-align: right;\">\n",
       "      <th></th>\n",
       "      <th>Activity Name</th>\n",
       "      <th>Activity Date</th>\n",
       "      <th>Moving Time</th>\n",
       "      <th>Distance</th>\n",
       "      <th>Average Speed</th>\n",
       "      <th>Average Watts</th>\n",
       "    </tr>\n",
       "  </thead>\n",
       "  <tbody>\n",
       "    <tr>\n",
       "      <th>52</th>\n",
       "      <td>11/11/2013 Málaga, Andalucía, Spain</td>\n",
       "      <td>Nov 11, 2013, 1:14:10 PM</td>\n",
       "      <td>615.0</td>\n",
       "      <td>3.87</td>\n",
       "      <td>22.653659</td>\n",
       "      <td>287.355988</td>\n",
       "    </tr>\n",
       "    <tr>\n",
       "      <th>66</th>\n",
       "      <td>01/15/2013 Tampere, Finland, Pirkanmaa, Finland</td>\n",
       "      <td>Jan 15, 2013, 10:57:29 AM</td>\n",
       "      <td>120.0</td>\n",
       "      <td>1.03</td>\n",
       "      <td>30.900000</td>\n",
       "      <td>237.153000</td>\n",
       "    </tr>\n",
       "    <tr>\n",
       "      <th>67</th>\n",
       "      <td>01/22/2013 Tampere, Finland, Pirkanmaa, Finland</td>\n",
       "      <td>Jan 22, 2013, 10:01:50 AM</td>\n",
       "      <td>787.0</td>\n",
       "      <td>3.90</td>\n",
       "      <td>17.839898</td>\n",
       "      <td>229.059998</td>\n",
       "    </tr>\n",
       "    <tr>\n",
       "      <th>69</th>\n",
       "      <td>01/22/2013 Tampere, Finland, Pirkanmaa, Finland</td>\n",
       "      <td>Jan 22, 2013, 10:47:52 AM</td>\n",
       "      <td>470.0</td>\n",
       "      <td>2.10</td>\n",
       "      <td>16.085106</td>\n",
       "      <td>251.947006</td>\n",
       "    </tr>\n",
       "    <tr>\n",
       "      <th>70</th>\n",
       "      <td>01/22/2013 Tampere, Finland, Pirkanmaa, Finland</td>\n",
       "      <td>Jan 22, 2013, 10:30:15 AM</td>\n",
       "      <td>489.0</td>\n",
       "      <td>2.63</td>\n",
       "      <td>19.361963</td>\n",
       "      <td>272.729004</td>\n",
       "    </tr>\n",
       "  </tbody>\n",
       "</table>\n",
       "</div>"
      ],
      "text/plain": [
       "                                      Activity Name  \\\n",
       "52              11/11/2013 Málaga, Andalucía, Spain   \n",
       "66  01/15/2013 Tampere, Finland, Pirkanmaa, Finland   \n",
       "67  01/22/2013 Tampere, Finland, Pirkanmaa, Finland   \n",
       "69  01/22/2013 Tampere, Finland, Pirkanmaa, Finland   \n",
       "70  01/22/2013 Tampere, Finland, Pirkanmaa, Finland   \n",
       "\n",
       "                Activity Date  Moving Time  Distance  Average Speed  \\\n",
       "52   Nov 11, 2013, 1:14:10 PM        615.0      3.87      22.653659   \n",
       "66  Jan 15, 2013, 10:57:29 AM        120.0      1.03      30.900000   \n",
       "67  Jan 22, 2013, 10:01:50 AM        787.0      3.90      17.839898   \n",
       "69  Jan 22, 2013, 10:47:52 AM        470.0      2.10      16.085106   \n",
       "70  Jan 22, 2013, 10:30:15 AM        489.0      2.63      19.361963   \n",
       "\n",
       "    Average Watts  \n",
       "52     287.355988  \n",
       "66     237.153000  \n",
       "67     229.059998  \n",
       "69     251.947006  \n",
       "70     272.729004  "
      ]
     },
     "metadata": {},
     "output_type": "display_data"
    },
    {
     "name": "stdout",
     "output_type": "stream",
     "text": [
      "57\n"
     ]
    }
   ],
   "source": [
    "tulosta=df2.loc[(df2['Average Speed']>36)]\n",
    "display(tulosta)\n",
    "\n",
    "tulosta=df2.loc[(df2['Distance']<5)]\n",
    "display(tulosta[:5])\n",
    "print(len(tulosta))"
   ]
  },
  {
   "cell_type": "markdown",
   "id": "881f29fb",
   "metadata": {},
   "source": [
    "Koska em. arvot eivät ole normaaleja, poistetaan ko. rivit datasetistä ja tarkistetaan ja visualisoidaan tilanne uudestaan.\n"
   ]
  },
  {
   "cell_type": "code",
   "execution_count": 111,
   "id": "1bbba379",
   "metadata": {},
   "outputs": [
    {
     "name": "stdout",
     "output_type": "stream",
     "text": [
      "Empty DataFrame\n",
      "Columns: [Activity Name, Activity Date, Moving Time, Distance, Average Speed, Average Watts]\n",
      "Index: []\n",
      "0\n"
     ]
    }
   ],
   "source": [
    "# rajataan pois epäkurrantteja rivejä\n",
    "df2=df2.loc[~(df2['Average Speed']>35)]\n",
    "df2=df2.loc[~(df2['Distance']<5)]\n",
    "\n",
    "# tarkistetaan, että em. toimenpiteet toteutuivat\n",
    "tulosta=df2.loc[(df2['Average Speed']>35)]\n",
    "print(tulosta)\n",
    "tulosta=df2.loc[(df2['Distance']<5)]\n",
    "print(len(tulosta))\n"
   ]
  },
  {
   "cell_type": "code",
   "execution_count": 110,
   "id": "edc641e2",
   "metadata": {},
   "outputs": [
    {
     "data": {
      "image/png": "[encoded data removed]",
      "text/plain": [
       "<Figure size 432x288 with 1 Axes>"
      ]
     },
     "metadata": {},
     "output_type": "display_data"
    },
    {
     "data": {
      "text/plain": [
       "(2404, 6)"
      ]
     },
     "execution_count": 110,
     "metadata": {},
     "output_type": "execute_result"
    }
   ],
   "source": [
    "regplot(df2,['Distance','Average Speed'])\n",
    "(df2.shape)"
   ]
  },
  {
   "cell_type": "markdown",
   "id": "d9c72368",
   "metadata": {},
   "source": [
    "Voidaan havaita, että poikkeavien arvojen poisto onnistui."
   ]
  },
  {
   "cell_type": "markdown",
   "id": "fe30eb47",
   "metadata": {},
   "source": [
    "### Riippuvuussuhteet/korrelaatiot"
   ]
  },
  {
   "cell_type": "code",
   "execution_count": 115,
   "id": "36d7a22c",
   "metadata": {},
   "outputs": [
    {
     "data": {
      "text/html": [
       "<div>\n",
       "<style scoped>\n",
       "    .dataframe tbody tr th:only-of-type {\n",
       "        vertical-align: middle;\n",
       "    }\n",
       "\n",
       "    .dataframe tbody tr th {\n",
       "        vertical-align: top;\n",
       "    }\n",
       "\n",
       "    .dataframe thead th {\n",
       "        text-align: right;\n",
       "    }\n",
       "</style>\n",
       "<table border=\"1\" class=\"dataframe\">\n",
       "  <thead>\n",
       "    <tr style=\"text-align: right;\">\n",
       "      <th></th>\n",
       "      <th>Moving Time</th>\n",
       "      <th>Distance</th>\n",
       "      <th>Average Speed</th>\n",
       "      <th>Average Watts</th>\n",
       "    </tr>\n",
       "  </thead>\n",
       "  <tbody>\n",
       "    <tr>\n",
       "      <th>Moving Time</th>\n",
       "      <td>1.000000</td>\n",
       "      <td>0.974971</td>\n",
       "      <td>0.168723</td>\n",
       "      <td>0.064662</td>\n",
       "    </tr>\n",
       "    <tr>\n",
       "      <th>Distance</th>\n",
       "      <td>0.974971</td>\n",
       "      <td>1.000000</td>\n",
       "      <td>0.359912</td>\n",
       "      <td>0.220676</td>\n",
       "    </tr>\n",
       "    <tr>\n",
       "      <th>Average Speed</th>\n",
       "      <td>0.168723</td>\n",
       "      <td>0.359912</td>\n",
       "      <td>1.000000</td>\n",
       "      <td>0.847092</td>\n",
       "    </tr>\n",
       "    <tr>\n",
       "      <th>Average Watts</th>\n",
       "      <td>0.064662</td>\n",
       "      <td>0.220676</td>\n",
       "      <td>0.847092</td>\n",
       "      <td>1.000000</td>\n",
       "    </tr>\n",
       "  </tbody>\n",
       "</table>\n",
       "</div>"
      ],
      "text/plain": [
       "               Moving Time  Distance  Average Speed  Average Watts\n",
       "Moving Time       1.000000  0.974971       0.168723       0.064662\n",
       "Distance          0.974971  1.000000       0.359912       0.220676\n",
       "Average Speed     0.168723  0.359912       1.000000       0.847092\n",
       "Average Watts     0.064662  0.220676       0.847092       1.000000"
      ]
     },
     "metadata": {},
     "output_type": "display_data"
    },
    {
     "data": {
      "image/png": "[encoded data removed]",
      "text/plain": [
       "<Figure size 432x288 with 2 Axes>"
      ]
     },
     "metadata": {},
     "output_type": "display_data"
    }
   ],
   "source": [
    "display(df2.corr())\n",
    "\n",
    "sns.heatmap(df2[columns].corr(), annot=True, fmt=\".2f\", square = True)\n",
    "plt.show()"
   ]
  },
  {
   "cell_type": "markdown",
   "id": "af7058d3",
   "metadata": {},
   "source": [
    "Se mikä kiinnosta niin suureilla 'Average Speed' ja 'Average Watts' näyttäisi olevan melko hyvä riippuvuussuhde. "
   ]
  },
  {
   "cell_type": "markdown",
   "id": "53ffd0d9",
   "metadata": {},
   "source": [
    "Muutetaan vielä aktiviteetin aikaleimaa sopivampaan/helpompaan muotoon\\\n",
    "ja lisätään muutama aikasarake valmiiksi niin on helpompi tehdä yhteenvetoja/analyysia aikajaksoihin liittyen."
   ]
  },
  {
   "cell_type": "code",
   "execution_count": 116,
   "id": "4c38c364",
   "metadata": {},
   "outputs": [],
   "source": [
    "# muutetaan formaati toiseksi niin on helpompi käsitellä\n",
    "df2['Activity DateTime']=pd.to_datetime(df2['Activity Date'])\n",
    "\n",
    "# lisätään pari kenttää\n",
    "df2['Year'] = df2['Activity DateTime'].dt.year\n",
    "df2['Month'] = df2['Activity DateTime'].dt.month\n",
    "df2['Week'] = df2['Activity DateTime'].dt.isocalendar().week \n",
    "df2['Dayofweek'] = df2['Activity DateTime'].dt.dayofweek\n",
    "df2['Daynameofweek'] = df2['Activity DateTime'].dt.day_name()\n"
   ]
  },
  {
   "cell_type": "markdown",
   "id": "8123f473",
   "metadata": {},
   "source": [
    "## Aineiston analysointia"
   ]
  },
  {
   "cell_type": "markdown",
   "id": "8de4c57f",
   "metadata": {},
   "source": [
    "#### Datan tunnusluvut \n",
    "Valittujen suureiden tunnusluvut saadaan helposti yhdellä kertaa esille dataframen decribe-funktiolla."
   ]
  },
  {
   "cell_type": "code",
   "execution_count": 62,
   "id": "59b52ab7",
   "metadata": {},
   "outputs": [
    {
     "data": {
      "text/html": [
       "<div>\n",
       "<style scoped>\n",
       "    .dataframe tbody tr th:only-of-type {\n",
       "        vertical-align: middle;\n",
       "    }\n",
       "\n",
       "    .dataframe tbody tr th {\n",
       "        vertical-align: top;\n",
       "    }\n",
       "\n",
       "    .dataframe thead th {\n",
       "        text-align: right;\n",
       "    }\n",
       "</style>\n",
       "<table border=\"1\" class=\"dataframe\">\n",
       "  <thead>\n",
       "    <tr style=\"text-align: right;\">\n",
       "      <th></th>\n",
       "      <th>Moving Time</th>\n",
       "      <th>Distance</th>\n",
       "      <th>Average Speed</th>\n",
       "      <th>Average Watts</th>\n",
       "    </tr>\n",
       "  </thead>\n",
       "  <tbody>\n",
       "    <tr>\n",
       "      <th>count</th>\n",
       "      <td>2404.000000</td>\n",
       "      <td>2404.000000</td>\n",
       "      <td>2404.000000</td>\n",
       "      <td>2404.000000</td>\n",
       "    </tr>\n",
       "    <tr>\n",
       "      <th>mean</th>\n",
       "      <td>3543.536606</td>\n",
       "      <td>24.742517</td>\n",
       "      <td>24.872511</td>\n",
       "      <td>274.825229</td>\n",
       "    </tr>\n",
       "    <tr>\n",
       "      <th>std</th>\n",
       "      <td>1818.553108</td>\n",
       "      <td>13.545253</td>\n",
       "      <td>3.053123</td>\n",
       "      <td>42.288627</td>\n",
       "    </tr>\n",
       "    <tr>\n",
       "      <th>min</th>\n",
       "      <td>650.000000</td>\n",
       "      <td>5.020000</td>\n",
       "      <td>5.483304</td>\n",
       "      <td>52.061058</td>\n",
       "    </tr>\n",
       "    <tr>\n",
       "      <th>25%</th>\n",
       "      <td>2309.750000</td>\n",
       "      <td>15.320000</td>\n",
       "      <td>23.087130</td>\n",
       "      <td>249.701523</td>\n",
       "    </tr>\n",
       "    <tr>\n",
       "      <th>50%</th>\n",
       "      <td>3053.000000</td>\n",
       "      <td>21.020000</td>\n",
       "      <td>25.534660</td>\n",
       "      <td>280.815506</td>\n",
       "    </tr>\n",
       "    <tr>\n",
       "      <th>75%</th>\n",
       "      <td>4273.500000</td>\n",
       "      <td>30.335000</td>\n",
       "      <td>27.030117</td>\n",
       "      <td>305.075500</td>\n",
       "    </tr>\n",
       "    <tr>\n",
       "      <th>max</th>\n",
       "      <td>17522.000000</td>\n",
       "      <td>111.070000</td>\n",
       "      <td>33.798009</td>\n",
       "      <td>373.770325</td>\n",
       "    </tr>\n",
       "  </tbody>\n",
       "</table>\n",
       "</div>"
      ],
      "text/plain": [
       "        Moving Time     Distance  Average Speed  Average Watts\n",
       "count   2404.000000  2404.000000    2404.000000    2404.000000\n",
       "mean    3543.536606    24.742517      24.872511     274.825229\n",
       "std     1818.553108    13.545253       3.053123      42.288627\n",
       "min      650.000000     5.020000       5.483304      52.061058\n",
       "25%     2309.750000    15.320000      23.087130     249.701523\n",
       "50%     3053.000000    21.020000      25.534660     280.815506\n",
       "75%     4273.500000    30.335000      27.030117     305.075500\n",
       "max    17522.000000   111.070000      33.798009     373.770325"
      ]
     },
     "metadata": {},
     "output_type": "display_data"
    }
   ],
   "source": [
    "columns=['Moving Time','Distance','Average Speed','Average Watts']\n",
    "display(df2[columns].describe())"
   ]
  },
  {
   "cell_type": "markdown",
   "id": "2f68f30d",
   "metadata": {},
   "source": [
    "#### Datan visualisointi\n",
    "Datan visualisointi on tärkeä osa analytiikkaa.\n",
    "Dataa voidaan kätevästi ja yksinkertaisesti esittää visualisesti, esim. seuraavassa keskeisten muuttujien historgrammit   "
   ]
  },
  {
   "cell_type": "code",
   "execution_count": 63,
   "id": "c272fb05",
   "metadata": {
    "scrolled": false
   },
   "outputs": [
    {
     "data": {
      "text/plain": [
       "[]"
      ]
     },
     "execution_count": 63,
     "metadata": {},
     "output_type": "execute_result"
    },
    {
     "data": {
      "image/png": "[encoded data removed]",
      "text/plain": [
       "<Figure size 1440x1080 with 4 Axes>"
      ]
     },
     "metadata": {},
     "output_type": "display_data"
    }
   ],
   "source": [
    "df2[columns].hist(bins=50,figsize=(20,15))\n",
    "plt.plot()"
   ]
  },
  {
   "cell_type": "markdown",
   "id": "74c01b70",
   "metadata": {},
   "source": [
    "**Voidaan havaita:** \\\n",
    "ajankäytön (Moving Time) suhteen suorituksista enemmistö on ollut n. 2500 sekunnin mittaisia \\\n",
    "matkan pituuden (Distance) suhteen suorituksista enemmistö on ollut n. 24 km mittaisia \\\n",
    "keskinopeuden (Average Speed) suhteen suorituksista enemmistö on ollut n. 27 km/h \\\n",
    "keskimääräisen tehon (Average Watts) suhteen suorituksista enemmistö on ollut n. 300 w \n"
   ]
  },
  {
   "cell_type": "markdown",
   "id": "54578a43",
   "metadata": {},
   "source": [
    "#### Kilometrien summa eri vuosina"
   ]
  },
  {
   "cell_type": "code",
   "execution_count": 64,
   "id": "e1e5ebcf",
   "metadata": {},
   "outputs": [
    {
     "data": {
      "text/html": [
       "<div>\n",
       "<style scoped>\n",
       "    .dataframe tbody tr th:only-of-type {\n",
       "        vertical-align: middle;\n",
       "    }\n",
       "\n",
       "    .dataframe tbody tr th {\n",
       "        vertical-align: top;\n",
       "    }\n",
       "\n",
       "    .dataframe thead th {\n",
       "        text-align: right;\n",
       "    }\n",
       "</style>\n",
       "<table border=\"1\" class=\"dataframe\">\n",
       "  <thead>\n",
       "    <tr style=\"text-align: right;\">\n",
       "      <th></th>\n",
       "      <th>Year</th>\n",
       "      <th>Distance</th>\n",
       "    </tr>\n",
       "  </thead>\n",
       "  <tbody>\n",
       "    <tr>\n",
       "      <th>0</th>\n",
       "      <td>2012</td>\n",
       "      <td>8585.14</td>\n",
       "    </tr>\n",
       "    <tr>\n",
       "      <th>1</th>\n",
       "      <td>2013</td>\n",
       "      <td>8622.17</td>\n",
       "    </tr>\n",
       "    <tr>\n",
       "      <th>2</th>\n",
       "      <td>2014</td>\n",
       "      <td>7755.46</td>\n",
       "    </tr>\n",
       "    <tr>\n",
       "      <th>3</th>\n",
       "      <td>2015</td>\n",
       "      <td>6538.73</td>\n",
       "    </tr>\n",
       "    <tr>\n",
       "      <th>4</th>\n",
       "      <td>2016</td>\n",
       "      <td>5127.68</td>\n",
       "    </tr>\n",
       "    <tr>\n",
       "      <th>5</th>\n",
       "      <td>2017</td>\n",
       "      <td>4652.30</td>\n",
       "    </tr>\n",
       "    <tr>\n",
       "      <th>6</th>\n",
       "      <td>2018</td>\n",
       "      <td>4822.22</td>\n",
       "    </tr>\n",
       "    <tr>\n",
       "      <th>7</th>\n",
       "      <td>2019</td>\n",
       "      <td>2700.23</td>\n",
       "    </tr>\n",
       "    <tr>\n",
       "      <th>8</th>\n",
       "      <td>2020</td>\n",
       "      <td>3948.74</td>\n",
       "    </tr>\n",
       "    <tr>\n",
       "      <th>9</th>\n",
       "      <td>2021</td>\n",
       "      <td>3327.84</td>\n",
       "    </tr>\n",
       "    <tr>\n",
       "      <th>10</th>\n",
       "      <td>2022</td>\n",
       "      <td>3400.50</td>\n",
       "    </tr>\n",
       "  </tbody>\n",
       "</table>\n",
       "</div>"
      ],
      "text/plain": [
       "    Year  Distance\n",
       "0   2012   8585.14\n",
       "1   2013   8622.17\n",
       "2   2014   7755.46\n",
       "3   2015   6538.73\n",
       "4   2016   5127.68\n",
       "5   2017   4652.30\n",
       "6   2018   4822.22\n",
       "7   2019   2700.23\n",
       "8   2020   3948.74\n",
       "9   2021   3327.84\n",
       "10  2022   3400.50"
      ]
     },
     "metadata": {},
     "output_type": "display_data"
    },
    {
     "data": {
      "image/png": "[encoded data removed]",
      "text/plain": [
       "<Figure size 1224x432 with 1 Axes>"
      ]
     },
     "metadata": {},
     "output_type": "display_data"
    },
    {
     "data": {
      "image/png": "[encoded data removed]",
      "text/plain": [
       "<Figure size 1224x432 with 1 Axes>"
      ]
     },
     "metadata": {},
     "output_type": "display_data"
    }
   ],
   "source": [
    "years=df2['Year'].unique()\n",
    "\n",
    "distance=[]\n",
    "for year in years:    \n",
    "    x=df2.loc[df2['Year']==year]    \n",
    "    distance.append(x['Distance'].sum())\n",
    "    \n",
    "distance=np.array(distance)\n",
    "\n",
    "data={'Year':years,'Distance':distance}\n",
    "\n",
    "data = pd.DataFrame(data)\n",
    "display(data)\n",
    "\n",
    "plt.figure()\n",
    "sns.set_style('dark')\n",
    "sns.barplot(x='Year', y='Distance', data=data, hue='Year', ci=None,palette = 'rocket',dodge=False)\n",
    "plt.gcf().set_size_inches(17, 6)\n",
    "\n",
    "plt.figure()\n",
    "data = pd.DataFrame(distance,years)\n",
    "sns.lineplot(data=data, palette=\"tab10\", linewidth=2.5,legend=None)\n",
    "plt.gcf().set_size_inches(17, 6)"
   ]
  },
  {
   "cell_type": "markdown",
   "id": "355729ed",
   "metadata": {},
   "source": [
    "Voidaan havaita, että kilometrimäärät ovat laskutendissä, maksimi savutettiin vuonna 2013 ja minimi vuonna 2019."
   ]
  },
  {
   "cell_type": "markdown",
   "id": "7209deb1",
   "metadata": {},
   "source": [
    "#### Kilometrien summa eri kuukausina"
   ]
  },
  {
   "cell_type": "code",
   "execution_count": 84,
   "id": "36ca3475",
   "metadata": {
    "scrolled": false
   },
   "outputs": [
    {
     "data": {
      "text/html": [
       "<div>\n",
       "<style scoped>\n",
       "    .dataframe tbody tr th:only-of-type {\n",
       "        vertical-align: middle;\n",
       "    }\n",
       "\n",
       "    .dataframe tbody tr th {\n",
       "        vertical-align: top;\n",
       "    }\n",
       "\n",
       "    .dataframe thead th {\n",
       "        text-align: right;\n",
       "    }\n",
       "</style>\n",
       "<table border=\"1\" class=\"dataframe\">\n",
       "  <thead>\n",
       "    <tr style=\"text-align: right;\">\n",
       "      <th></th>\n",
       "      <th>Month</th>\n",
       "      <th>Distance</th>\n",
       "    </tr>\n",
       "  </thead>\n",
       "  <tbody>\n",
       "    <tr>\n",
       "      <th>0</th>\n",
       "      <td>January</td>\n",
       "      <td>3220.90</td>\n",
       "    </tr>\n",
       "    <tr>\n",
       "      <th>1</th>\n",
       "      <td>February</td>\n",
       "      <td>3288.37</td>\n",
       "    </tr>\n",
       "    <tr>\n",
       "      <th>2</th>\n",
       "      <td>March</td>\n",
       "      <td>4403.02</td>\n",
       "    </tr>\n",
       "    <tr>\n",
       "      <th>3</th>\n",
       "      <td>April</td>\n",
       "      <td>4102.59</td>\n",
       "    </tr>\n",
       "    <tr>\n",
       "      <th>4</th>\n",
       "      <td>May</td>\n",
       "      <td>5098.04</td>\n",
       "    </tr>\n",
       "    <tr>\n",
       "      <th>5</th>\n",
       "      <td>June</td>\n",
       "      <td>5956.85</td>\n",
       "    </tr>\n",
       "    <tr>\n",
       "      <th>6</th>\n",
       "      <td>July</td>\n",
       "      <td>5389.80</td>\n",
       "    </tr>\n",
       "    <tr>\n",
       "      <th>7</th>\n",
       "      <td>August</td>\n",
       "      <td>5715.92</td>\n",
       "    </tr>\n",
       "    <tr>\n",
       "      <th>8</th>\n",
       "      <td>September</td>\n",
       "      <td>4663.90</td>\n",
       "    </tr>\n",
       "    <tr>\n",
       "      <th>9</th>\n",
       "      <td>October</td>\n",
       "      <td>7558.64</td>\n",
       "    </tr>\n",
       "    <tr>\n",
       "      <th>10</th>\n",
       "      <td>November</td>\n",
       "      <td>6565.66</td>\n",
       "    </tr>\n",
       "    <tr>\n",
       "      <th>11</th>\n",
       "      <td>December</td>\n",
       "      <td>3517.32</td>\n",
       "    </tr>\n",
       "  </tbody>\n",
       "</table>\n",
       "</div>"
      ],
      "text/plain": [
       "        Month  Distance\n",
       "0     January   3220.90\n",
       "1    February   3288.37\n",
       "2       March   4403.02\n",
       "3       April   4102.59\n",
       "4         May   5098.04\n",
       "5        June   5956.85\n",
       "6        July   5389.80\n",
       "7      August   5715.92\n",
       "8   September   4663.90\n",
       "9     October   7558.64\n",
       "10   November   6565.66\n",
       "11   December   3517.32"
      ]
     },
     "metadata": {},
     "output_type": "display_data"
    },
    {
     "data": {
      "image/png": "[encoded data removed]",
      "text/plain": [
       "<Figure size 1224x432 with 1 Axes>"
      ]
     },
     "metadata": {},
     "output_type": "display_data"
    }
   ],
   "source": [
    "months=df2['Month'].unique()\n",
    "months=np.sort(months)\n",
    "\n",
    "monthNames = ['January', 'February', 'March', 'April', 'May', 'June', 'July','August', 'September', 'October'\n",
    "              , 'November', 'December']\n",
    "\n",
    "distance=[]\n",
    "mNx=[]\n",
    "for month in months:\n",
    "    x=df2.loc[df2['Month']==month]    \n",
    "    distance.append(x['Distance'].sum())    \n",
    "    mNx.append(monthNames[month-1])\n",
    "    \n",
    "distance=np.array(distance)\n",
    "data={'Month':mNx,'Distance':distance}\n",
    "data = pd.DataFrame(data)\n",
    "display(data)\n",
    "\n",
    "plt.figure()\n",
    "sns.barplot(data=data,x='Month', y='Distance', ci=None, color='steelblue',dodge=False)\n",
    "plt.gcf().set_size_inches(17, 6)\n"
   ]
  },
  {
   "cell_type": "markdown",
   "id": "d76d0152",
   "metadata": {},
   "source": [
    "Voidaan nähdä, että lokakuussa on tullut eniten kilometrejä mittariin. \\\n",
    "Tämän selittää pyöräily Malagassa 2012-2015."
   ]
  },
  {
   "cell_type": "markdown",
   "id": "c50f3ebd",
   "metadata": {},
   "source": [
    "#### Kilometrien summa eri viikonpäivinä"
   ]
  },
  {
   "cell_type": "code",
   "execution_count": 66,
   "id": "cb94e0fb",
   "metadata": {
    "scrolled": false
   },
   "outputs": [
    {
     "data": {
      "text/html": [
       "<div>\n",
       "<style scoped>\n",
       "    .dataframe tbody tr th:only-of-type {\n",
       "        vertical-align: middle;\n",
       "    }\n",
       "\n",
       "    .dataframe tbody tr th {\n",
       "        vertical-align: top;\n",
       "    }\n",
       "\n",
       "    .dataframe thead th {\n",
       "        text-align: right;\n",
       "    }\n",
       "</style>\n",
       "<table border=\"1\" class=\"dataframe\">\n",
       "  <thead>\n",
       "    <tr style=\"text-align: right;\">\n",
       "      <th></th>\n",
       "      <th>Day</th>\n",
       "      <th>Distance</th>\n",
       "    </tr>\n",
       "  </thead>\n",
       "  <tbody>\n",
       "    <tr>\n",
       "      <th>0</th>\n",
       "      <td>Monday</td>\n",
       "      <td>6927.58</td>\n",
       "    </tr>\n",
       "    <tr>\n",
       "      <th>1</th>\n",
       "      <td>Tuesday</td>\n",
       "      <td>8262.56</td>\n",
       "    </tr>\n",
       "    <tr>\n",
       "      <th>2</th>\n",
       "      <td>Wednesday</td>\n",
       "      <td>8773.86</td>\n",
       "    </tr>\n",
       "    <tr>\n",
       "      <th>3</th>\n",
       "      <td>Thursday</td>\n",
       "      <td>8440.00</td>\n",
       "    </tr>\n",
       "    <tr>\n",
       "      <th>4</th>\n",
       "      <td>Friday</td>\n",
       "      <td>9130.97</td>\n",
       "    </tr>\n",
       "    <tr>\n",
       "      <th>5</th>\n",
       "      <td>Saturday</td>\n",
       "      <td>9736.52</td>\n",
       "    </tr>\n",
       "    <tr>\n",
       "      <th>6</th>\n",
       "      <td>Sunday</td>\n",
       "      <td>8209.52</td>\n",
       "    </tr>\n",
       "  </tbody>\n",
       "</table>\n",
       "</div>"
      ],
      "text/plain": [
       "         Day  Distance\n",
       "0     Monday   6927.58\n",
       "1    Tuesday   8262.56\n",
       "2  Wednesday   8773.86\n",
       "3   Thursday   8440.00\n",
       "4     Friday   9130.97\n",
       "5   Saturday   9736.52\n",
       "6     Sunday   8209.52"
      ]
     },
     "metadata": {},
     "output_type": "display_data"
    },
    {
     "name": "stdout",
     "output_type": "stream",
     "text": [
      "Max\n",
      "        Day  Distance\n",
      "5  Saturday   9736.52\n"
     ]
    },
    {
     "data": {
      "image/png": "[encoded data removed]",
      "text/plain": [
       "<Figure size 1224x432 with 1 Axes>"
      ]
     },
     "metadata": {},
     "output_type": "display_data"
    }
   ],
   "source": [
    "\n",
    "dayNames = [\"Monday\", \"Tuesday\", \"Wednesday\", \"Thursday\", \"Friday\", \"Saturday\",\"Sunday\"]\n",
    "dows=df2['Dayofweek'].unique()\n",
    "dows=np.sort(dows)\n",
    "\n",
    "distance=[]\n",
    "dowNames=[]\n",
    "for day in dows:    \n",
    "    x=df2.loc[df2['Dayofweek']==day]    \n",
    "    distance.append(x['Distance'].sum())\n",
    "    dowNames.append(dayNames[day])\n",
    "distance=np.array(distance)\n",
    "\n",
    "data={'Day':dowNames,'Distance':distance}\n",
    "\n",
    "data = pd.DataFrame(data) #,columns=['Day','Distance'])\n",
    "\n",
    "display(data)\n",
    "\n",
    "plt.figure()\n",
    "sns.barplot(data=data, x='Day', y='Distance', ci=None, color = 'steelblue',dodge=False)\n",
    "plt.gcf().set_size_inches(17, 6)\n",
    "\n",
    "# miten saadaan maksimi viikonpäivän summa selville ja mikä ko. viikonpäivä on???\n",
    "print(\"Max\")\n",
    "print(data.loc[data['Distance']==data['Distance'].max()])"
   ]
  },
  {
   "cell_type": "markdown",
   "id": "06766a7a",
   "metadata": {},
   "source": [
    "Launtaisin on tullut eniten pyöräiltyä."
   ]
  },
  {
   "cell_type": "markdown",
   "id": "ed783995",
   "metadata": {},
   "source": [
    "#### TIetyn vuoden kuukausikohtaiset kilometrien summat\n",
    "Tässä esitetään vuoden (jonka aikana tuli eniten pyöräiltyä) kuukausikohtaiset summat"
   ]
  },
  {
   "cell_type": "code",
   "execution_count": 67,
   "id": "982db14a",
   "metadata": {},
   "outputs": [
    {
     "data": {
      "text/html": [
       "<div>\n",
       "<style scoped>\n",
       "    .dataframe tbody tr th:only-of-type {\n",
       "        vertical-align: middle;\n",
       "    }\n",
       "\n",
       "    .dataframe tbody tr th {\n",
       "        vertical-align: top;\n",
       "    }\n",
       "\n",
       "    .dataframe thead th {\n",
       "        text-align: right;\n",
       "    }\n",
       "</style>\n",
       "<table border=\"1\" class=\"dataframe\">\n",
       "  <thead>\n",
       "    <tr style=\"text-align: right;\">\n",
       "      <th></th>\n",
       "      <th>Month</th>\n",
       "      <th>Distance</th>\n",
       "    </tr>\n",
       "  </thead>\n",
       "  <tbody>\n",
       "    <tr>\n",
       "      <th>0</th>\n",
       "      <td>January</td>\n",
       "      <td>337.58</td>\n",
       "    </tr>\n",
       "    <tr>\n",
       "      <th>1</th>\n",
       "      <td>February</td>\n",
       "      <td>315.38</td>\n",
       "    </tr>\n",
       "    <tr>\n",
       "      <th>2</th>\n",
       "      <td>March</td>\n",
       "      <td>352.74</td>\n",
       "    </tr>\n",
       "    <tr>\n",
       "      <th>3</th>\n",
       "      <td>April</td>\n",
       "      <td>175.27</td>\n",
       "    </tr>\n",
       "    <tr>\n",
       "      <th>4</th>\n",
       "      <td>May</td>\n",
       "      <td>517.64</td>\n",
       "    </tr>\n",
       "    <tr>\n",
       "      <th>5</th>\n",
       "      <td>June</td>\n",
       "      <td>917.85</td>\n",
       "    </tr>\n",
       "    <tr>\n",
       "      <th>6</th>\n",
       "      <td>July</td>\n",
       "      <td>582.92</td>\n",
       "    </tr>\n",
       "    <tr>\n",
       "      <th>7</th>\n",
       "      <td>August</td>\n",
       "      <td>818.78</td>\n",
       "    </tr>\n",
       "    <tr>\n",
       "      <th>8</th>\n",
       "      <td>September</td>\n",
       "      <td>663.74</td>\n",
       "    </tr>\n",
       "    <tr>\n",
       "      <th>9</th>\n",
       "      <td>October</td>\n",
       "      <td>1522.25</td>\n",
       "    </tr>\n",
       "    <tr>\n",
       "      <th>10</th>\n",
       "      <td>November</td>\n",
       "      <td>1673.75</td>\n",
       "    </tr>\n",
       "    <tr>\n",
       "      <th>11</th>\n",
       "      <td>December</td>\n",
       "      <td>744.27</td>\n",
       "    </tr>\n",
       "  </tbody>\n",
       "</table>\n",
       "</div>"
      ],
      "text/plain": [
       "        Month  Distance\n",
       "0     January    337.58\n",
       "1    February    315.38\n",
       "2       March    352.74\n",
       "3       April    175.27\n",
       "4         May    517.64\n",
       "5        June    917.85\n",
       "6        July    582.92\n",
       "7      August    818.78\n",
       "8   September    663.74\n",
       "9     October   1522.25\n",
       "10   November   1673.75\n",
       "11   December    744.27"
      ]
     },
     "metadata": {},
     "output_type": "display_data"
    },
    {
     "data": {
      "image/png": "[encoded data removed]",
      "text/plain": [
       "<Figure size 1224x432 with 1 Axes>"
      ]
     },
     "metadata": {},
     "output_type": "display_data"
    }
   ],
   "source": [
    "years=df2['Year'].unique()\n",
    "\n",
    "distance=[]\n",
    "for year in years:    \n",
    "    x=df2.loc[df2['Year']==year]    \n",
    "    distance.append(x['Distance'].sum())\n",
    "    \n",
    "distance=np.array(distance)\n",
    "sortedindex = np.argsort(distance, axis=0)\n",
    "maxind=sortedindex[::-1][0]\n",
    "\n",
    "maxYear=years[maxind]\n",
    "\n",
    "### maksimivuoden tiedot\n",
    "data=df2.loc[df2['Year']==maxYear]    \n",
    "\n",
    "distance=[]\n",
    "mN=[]\n",
    "for month in months:\n",
    "    x=data.loc[data['Month']==month]    \n",
    "    distance.append(x['Distance'].sum())    \n",
    "    mN.append(monthNames[month-1])\n",
    "    \n",
    "distance=np.array(distance)\n",
    "\n",
    "data={'Month':mN,'Distance':distance}\n",
    "data = pd.DataFrame(data)\n",
    "display(data)\n",
    "\n",
    "plt.figure()\n",
    "sns.set_style('dark')\n",
    "sns.barplot(data=data,x='Month', y='Distance', ci=None, color='steelblue',dodge=False).set(title=f'{maxYear}')\n",
    "plt.gcf().set_size_inches(17, 6)"
   ]
  },
  {
   "cell_type": "markdown",
   "id": "e5304f5b",
   "metadata": {},
   "source": [
    "Voidaan nähdä, että marraskuussa on tullut eniten kilometrejä mittariin. \\\n",
    "Tämän selittää pyöräily Malagassa 2013 ko. ajankohtana."
   ]
  },
  {
   "cell_type": "markdown",
   "id": "cbaf264f",
   "metadata": {},
   "source": [
    "#### Kilometrien summa eri vuosien eri kuukausina"
   ]
  },
  {
   "cell_type": "code",
   "execution_count": 85,
   "id": "87d5f59c",
   "metadata": {},
   "outputs": [
    {
     "data": {
      "image/png": "[encoded data removed]",
      "text/plain": [
       "<Figure size 1224x432 with 1 Axes>"
      ]
     },
     "metadata": {},
     "output_type": "display_data"
    }
   ],
   "source": [
    "df2['monthName'] = df2['Activity DateTime'].dt.month_name()\n",
    "\n",
    "plt.figure()\n",
    "sns.set_style('dark')\n",
    "sns.barplot(x='monthName', y='Distance', data=df2, hue='Year', ci=None, estimator=np.sum, palette = 'icefire_r',\n",
    "            dodge=True,order =[\"January\", \"February\", \"March\", \"April\", \"May\", \"June\", \"July\", \"August\", \"September\", \n",
    "            \"October\", \"November\", \"December\"])\n",
    "plt.legend(loc='upper center')\n",
    "plt.gcf().set_size_inches(17, 6)"
   ]
  },
  {
   "cell_type": "markdown",
   "id": "52b0fa8a",
   "metadata": {},
   "source": [
    "On nähtävissä, että marraskuussa vuosina 2012-2013 on eniten kilometrejä kertynyt mittariin,\\\n",
    "em. vuosina myös lokakuu on myös ollut hyvä kuukausi. \\\n",
    "Tämä selkeä ero muihin kuukausiin selittyy sillä, että olen käynyt Malagassa pyöräilemässä ko. ajanjaksoina. "
   ]
  },
  {
   "cell_type": "markdown",
   "id": "1594b26f",
   "metadata": {},
   "source": [
    "#### Kilometrien summa eri vuodenaikoina"
   ]
  },
  {
   "cell_type": "code",
   "execution_count": 121,
   "id": "25318f8f",
   "metadata": {},
   "outputs": [],
   "source": [
    "# lisätään dataframeen season-sarake, joka täytetään ko. datalla\n",
    "# kevät kuukaudet 3-5, kesä 6-8, syksy 9-11, talvi 12,1,2\n",
    "\n",
    "seasons=['Spring','Summer','Autumn','Winter']\n",
    "\n",
    "df2.loc[(df2[\"Month\"]>=3) & (df2[\"Month\"]<=5), 'Season'] = seasons[0]\n",
    "df2.loc[(df2[\"Month\"]>=6) & (df2[\"Month\"]<=8), 'Season'] = seasons[1]\n",
    "df2.loc[(df2[\"Month\"]>=9) & (df2[\"Month\"]<=11), 'Season'] = seasons[2]\n",
    "df2.loc[(df2[\"Month\"]==1) | (df2[\"Month\"]==2) | (df2[\"Month\"]==12), 'Season'] = seasons[3]\n"
   ]
  },
  {
   "cell_type": "code",
   "execution_count": 70,
   "id": "53edb545",
   "metadata": {},
   "outputs": [
    {
     "data": {
      "text/html": [
       "<div>\n",
       "<style scoped>\n",
       "    .dataframe tbody tr th:only-of-type {\n",
       "        vertical-align: middle;\n",
       "    }\n",
       "\n",
       "    .dataframe tbody tr th {\n",
       "        vertical-align: top;\n",
       "    }\n",
       "\n",
       "    .dataframe thead th {\n",
       "        text-align: right;\n",
       "    }\n",
       "</style>\n",
       "<table border=\"1\" class=\"dataframe\">\n",
       "  <thead>\n",
       "    <tr style=\"text-align: right;\">\n",
       "      <th></th>\n",
       "      <th>Season</th>\n",
       "      <th>Distance</th>\n",
       "    </tr>\n",
       "  </thead>\n",
       "  <tbody>\n",
       "    <tr>\n",
       "      <th>0</th>\n",
       "      <td>Spring</td>\n",
       "      <td>13603.65</td>\n",
       "    </tr>\n",
       "    <tr>\n",
       "      <th>1</th>\n",
       "      <td>Summer</td>\n",
       "      <td>17062.57</td>\n",
       "    </tr>\n",
       "    <tr>\n",
       "      <th>2</th>\n",
       "      <td>Autumn</td>\n",
       "      <td>18788.20</td>\n",
       "    </tr>\n",
       "    <tr>\n",
       "      <th>3</th>\n",
       "      <td>Winter</td>\n",
       "      <td>10026.59</td>\n",
       "    </tr>\n",
       "  </tbody>\n",
       "</table>\n",
       "</div>"
      ],
      "text/plain": [
       "   Season  Distance\n",
       "0  Spring  13603.65\n",
       "1  Summer  17062.57\n",
       "2  Autumn  18788.20\n",
       "3  Winter  10026.59"
      ]
     },
     "metadata": {},
     "output_type": "display_data"
    },
    {
     "name": "stdout",
     "output_type": "stream",
     "text": [
      "Max\n",
      "   Season  Distance\n",
      "2  Autumn   18788.2\n"
     ]
    },
    {
     "data": {
      "image/png": "[encoded data removed]",
      "text/plain": [
       "<Figure size 576x288 with 1 Axes>"
      ]
     },
     "metadata": {},
     "output_type": "display_data"
    }
   ],
   "source": [
    "distance=[]\n",
    "for i in range(len(seasons)):\n",
    "    dfx=df2.loc[df2[\"Season\"]==seasons[i]]\n",
    "    distance.append(dfx['Distance'].sum())\n",
    "\n",
    "sns.set_style('dark')\n",
    "plt.figure()\n",
    "data={'Season':seasons,'Distance':distance}\n",
    "data = pd.DataFrame(data)\n",
    "display(data)\n",
    "\n",
    "sns.barplot(x='Season', y='Distance', data=data, ci=None, color='steelblue',dodge=False)\n",
    "plt.gcf().set_size_inches(8, 4)\n",
    "\n",
    "print(\"Max\")\n",
    "print(data.loc[data['Distance']==data['Distance'].max()])"
   ]
  },
  {
   "cell_type": "markdown",
   "id": "ea5baa14",
   "metadata": {},
   "source": [
    "Huomataan, että syksyisin on tullut eniten kilometrejä mittariin koko mittausaineisto huomioiden."
   ]
  },
  {
   "cell_type": "markdown",
   "id": "bc49b946",
   "metadata": {},
   "source": [
    "### Yksittäisiä tietoja\n",
    "Yksittäisiä tietoja on varsin helppo hakea Pandas dataframesta esim. seuraavasti:"
   ]
  },
  {
   "cell_type": "markdown",
   "id": "bb1d7d01",
   "metadata": {},
   "source": [
    "##### Vuosien 2012 - 2022 tilastoja"
   ]
  },
  {
   "cell_type": "code",
   "execution_count": 71,
   "id": "f2c96f03",
   "metadata": {},
   "outputs": [
    {
     "name": "stdout",
     "output_type": "stream",
     "text": [
      "\n"
     ]
    },
    {
     "data": {
      "text/html": [
       "<div>\n",
       "<style scoped>\n",
       "    .dataframe tbody tr th:only-of-type {\n",
       "        vertical-align: middle;\n",
       "    }\n",
       "\n",
       "    .dataframe tbody tr th {\n",
       "        vertical-align: top;\n",
       "    }\n",
       "\n",
       "    .dataframe thead th {\n",
       "        text-align: right;\n",
       "    }\n",
       "</style>\n",
       "<table border=\"1\" class=\"dataframe\">\n",
       "  <thead>\n",
       "    <tr style=\"text-align: right;\">\n",
       "      <th></th>\n",
       "      <th>Kysymys</th>\n",
       "      <th>Vastaus</th>\n",
       "    </tr>\n",
       "  </thead>\n",
       "  <tbody>\n",
       "    <tr>\n",
       "      <th>0</th>\n",
       "      <td>Aktiviteetteja yhteensä</td>\n",
       "      <td>2404</td>\n",
       "    </tr>\n",
       "    <tr>\n",
       "      <th>1</th>\n",
       "      <td>Aktiviteettien matkojen summa</td>\n",
       "      <td>59481.01 km</td>\n",
       "    </tr>\n",
       "    <tr>\n",
       "      <th>2</th>\n",
       "      <td>Kaikkien aktiviteettien matkojen keskiarvo</td>\n",
       "      <td>24.74 km</td>\n",
       "    </tr>\n",
       "    <tr>\n",
       "      <th>3</th>\n",
       "      <td>Pisin suoritus</td>\n",
       "      <td>111.07 km</td>\n",
       "    </tr>\n",
       "    <tr>\n",
       "      <th>4</th>\n",
       "      <td>Kaikkien aktiviteettien keskinopeus</td>\n",
       "      <td>24.87 km/h</td>\n",
       "    </tr>\n",
       "    <tr>\n",
       "      <th>5</th>\n",
       "      <td>Suurin Keskinopeus</td>\n",
       "      <td>33.8 km/h</td>\n",
       "    </tr>\n",
       "  </tbody>\n",
       "</table>\n",
       "</div>"
      ],
      "text/plain": [
       "                                       Kysymys      Vastaus\n",
       "0                      Aktiviteetteja yhteensä         2404\n",
       "1                Aktiviteettien matkojen summa  59481.01 km\n",
       "2  Kaikkien aktiviteettien matkojen keskiarvo      24.74 km\n",
       "3                               Pisin suoritus    111.07 km\n",
       "4          Kaikkien aktiviteettien keskinopeus   24.87 km/h\n",
       "5                           Suurin Keskinopeus    33.8 km/h"
      ]
     },
     "metadata": {},
     "output_type": "display_data"
    },
    {
     "name": "stdout",
     "output_type": "stream",
     "text": [
      "Pisimmän suorituksen tiedot\n"
     ]
    },
    {
     "data": {
      "text/html": [
       "<div>\n",
       "<style scoped>\n",
       "    .dataframe tbody tr th:only-of-type {\n",
       "        vertical-align: middle;\n",
       "    }\n",
       "\n",
       "    .dataframe tbody tr th {\n",
       "        vertical-align: top;\n",
       "    }\n",
       "\n",
       "    .dataframe thead th {\n",
       "        text-align: right;\n",
       "    }\n",
       "</style>\n",
       "<table border=\"1\" class=\"dataframe\">\n",
       "  <thead>\n",
       "    <tr style=\"text-align: right;\">\n",
       "      <th></th>\n",
       "      <th>Activity Name</th>\n",
       "      <th>Activity Date</th>\n",
       "      <th>Moving Time</th>\n",
       "      <th>Distance</th>\n",
       "      <th>Average Speed</th>\n",
       "      <th>Average Watts</th>\n",
       "    </tr>\n",
       "  </thead>\n",
       "  <tbody>\n",
       "    <tr>\n",
       "      <th>756</th>\n",
       "      <td>2015-11-15T14:13:11.927Z</td>\n",
       "      <td>Nov 15, 2015, 2:13:12 PM</td>\n",
       "      <td>17522.0</td>\n",
       "      <td>111.07</td>\n",
       "      <td>22.819998</td>\n",
       "      <td>262.348999</td>\n",
       "    </tr>\n",
       "  </tbody>\n",
       "</table>\n",
       "</div>"
      ],
      "text/plain": [
       "                Activity Name             Activity Date  Moving Time  \\\n",
       "756  2015-11-15T14:13:11.927Z  Nov 15, 2015, 2:13:12 PM      17522.0   \n",
       "\n",
       "     Distance  Average Speed  Average Watts  \n",
       "756    111.07      22.819998     262.348999  "
      ]
     },
     "metadata": {},
     "output_type": "display_data"
    },
    {
     "name": "stdout",
     "output_type": "stream",
     "text": [
      "\n",
      "Suurimman keskinopeuden omaavan aktiviteetin tiedot\n"
     ]
    },
    {
     "data": {
      "text/html": [
       "<div>\n",
       "<style scoped>\n",
       "    .dataframe tbody tr th:only-of-type {\n",
       "        vertical-align: middle;\n",
       "    }\n",
       "\n",
       "    .dataframe tbody tr th {\n",
       "        vertical-align: top;\n",
       "    }\n",
       "\n",
       "    .dataframe thead th {\n",
       "        text-align: right;\n",
       "    }\n",
       "</style>\n",
       "<table border=\"1\" class=\"dataframe\">\n",
       "  <thead>\n",
       "    <tr style=\"text-align: right;\">\n",
       "      <th></th>\n",
       "      <th>Activity Name</th>\n",
       "      <th>Activity Date</th>\n",
       "      <th>Moving Time</th>\n",
       "      <th>Distance</th>\n",
       "      <th>Average Speed</th>\n",
       "      <th>Average Watts</th>\n",
       "    </tr>\n",
       "  </thead>\n",
       "  <tbody>\n",
       "    <tr>\n",
       "      <th>459</th>\n",
       "      <td>25/10/2014 Torremolinos, Andalusia, Spain</td>\n",
       "      <td>Oct 25, 2014, 11:25:51 AM</td>\n",
       "      <td>703.0</td>\n",
       "      <td>6.6</td>\n",
       "      <td>33.798009</td>\n",
       "      <td>339.152008</td>\n",
       "    </tr>\n",
       "  </tbody>\n",
       "</table>\n",
       "</div>"
      ],
      "text/plain": [
       "                                 Activity Name              Activity Date  \\\n",
       "459  25/10/2014 Torremolinos, Andalusia, Spain  Oct 25, 2014, 11:25:51 AM   \n",
       "\n",
       "     Moving Time  Distance  Average Speed  Average Watts  \n",
       "459        703.0       6.6      33.798009     339.152008  "
      ]
     },
     "metadata": {},
     "output_type": "display_data"
    },
    {
     "name": "stdout",
     "output_type": "stream",
     "text": [
      "\n"
     ]
    },
    {
     "data": {
      "text/html": [
       "<div>\n",
       "<style scoped>\n",
       "    .dataframe tbody tr th:only-of-type {\n",
       "        vertical-align: middle;\n",
       "    }\n",
       "\n",
       "    .dataframe tbody tr th {\n",
       "        vertical-align: top;\n",
       "    }\n",
       "\n",
       "    .dataframe thead th {\n",
       "        text-align: right;\n",
       "    }\n",
       "</style>\n",
       "<table border=\"1\" class=\"dataframe\">\n",
       "  <thead>\n",
       "    <tr style=\"text-align: right;\">\n",
       "      <th></th>\n",
       "      <th>Kysymys</th>\n",
       "      <th>Vastaus</th>\n",
       "    </tr>\n",
       "  </thead>\n",
       "  <tbody>\n",
       "    <tr>\n",
       "      <th></th>\n",
       "      <td>maksimi HR (bpm)</td>\n",
       "      <td>155.79</td>\n",
       "    </tr>\n",
       "    <tr>\n",
       "      <th></th>\n",
       "      <td>HR keskiarvo (bpm)</td>\n",
       "      <td>135.88</td>\n",
       "    </tr>\n",
       "    <tr>\n",
       "      <th></th>\n",
       "      <td>Tehokkain aktiviteetti</td>\n",
       "      <td>373.77</td>\n",
       "    </tr>\n",
       "  </tbody>\n",
       "</table>\n",
       "</div>"
      ],
      "text/plain": [
       "                 Kysymys  Vastaus\n",
       "        maksimi HR (bpm)   155.79\n",
       "      HR keskiarvo (bpm)   135.88\n",
       "  Tehokkain aktiviteetti   373.77"
      ]
     },
     "metadata": {},
     "output_type": "display_data"
    }
   ],
   "source": [
    "# tähän\n",
    "\n",
    "def dropNanRowByColumn(df,column):\n",
    "    rowsToDrop = df.loc[(df[column].isnull())].index\n",
    "    df.drop(rowsToDrop,inplace=True) \n",
    "\n",
    "q=[]\n",
    "a=[]\n",
    "\n",
    "columns=['Activity Name','Activity Date','Moving Time','Distance','Average Speed','Average Watts']\n",
    "lkm=df2.shape[0]\n",
    "\n",
    "q.append(f\"Aktiviteetteja yhteensä\")\n",
    "a.append(f\"{lkm}\")\n",
    "sum=round(df2['Distance'].sum(),2)\n",
    "\n",
    "q.append(f\"Aktiviteettien matkojen summa\")\n",
    "a.append(f\"{sum} km\")\n",
    "mean=round(df2['Distance'].mean(),2)\n",
    "\n",
    "q.append(f\"Kaikkien aktiviteettien matkojen keskiarvo \")\n",
    "a.append(f\"{mean} km\")\n",
    "max=df2['Distance'].max()\n",
    "\n",
    "q.append(f\"Pisin suoritus\")\n",
    "a.append(f\"{round(max,2)} km\")\n",
    "dfMaxDist=df2.loc[(df2['Distance']==max)]\n",
    "print()\n",
    "mean=round(df2['Average Speed'].mean(),2)\n",
    "\n",
    "q.append(f\"Kaikkien aktiviteettien keskinopeus\")\n",
    "a.append(f\"{mean} km/h\")\n",
    "max=df2['Average Speed'].max()\n",
    "\n",
    "q.append(f\"Suurin Keskinopeus\")\n",
    "a.append(f\"{round(max,2)} km/h\")\n",
    "data={'Kysymys':q,'Vastaus':a}\n",
    "data = pd.DataFrame(data)\n",
    "display(data)\n",
    "\n",
    "print(f\"Pisimmän suorituksen tiedot\")\n",
    "display(dfMaxDist[columns])\n",
    "\n",
    "print()\n",
    "print(\"Suurimman keskinopeuden omaavan aktiviteetin tiedot\")\n",
    "dfMaxSpeed=df2.loc[(df2['Average Speed']==max)]             \n",
    "display(dfMaxSpeed[columns])\n",
    "\n",
    "dfx=df.copy()\n",
    "col='Average Heart Rate'\n",
    "dropNanRowByColumn(dfx,col)\n",
    "\n",
    "print()\n",
    "#print(\"Syke\")\n",
    "max=round(dfx[col].max(),2)\n",
    "mean=round(dfx[col].mean(),2)\n",
    "#data={'Syke':[''],'maksimi':[max],'keskiarvo':[mean],'yksikkö':['bpm']}\n",
    "q=[]\n",
    "a=[]\n",
    "q.append('maksimi HR (bpm)')           \n",
    "a.append(round(max,2))\n",
    "q.append('HR keskiarvo (bpm)')           \n",
    "a.append(mean)\n",
    "q.append('Tehokkain aktiviteetti') \n",
    "max=df2['Average Watts'].max()\n",
    "a.append(round(max,2))\n",
    "\n",
    "data={'Kysymys':q,'Vastaus':a}\n",
    "data = pd.DataFrame(data)\n",
    "blankIndex=[''] * len(data)\n",
    "data.index=blankIndex\n",
    "display(data)\n",
    "\n"
   ]
  },
  {
   "cell_type": "markdown",
   "id": "f87dc19d",
   "metadata": {},
   "source": [
    "#### Vuoden 2013 tilastoja"
   ]
  },
  {
   "cell_type": "code",
   "execution_count": 72,
   "id": "40540805",
   "metadata": {
    "scrolled": false
   },
   "outputs": [
    {
     "name": "stdout",
     "output_type": "stream",
     "text": [
      "Aktiviteetteja yhteensä 236\n",
      "Aktiviteettien matkojen summa 8622.17 km\n",
      "Pisin suoritus 87.19 km\n",
      "\n",
      "Pisimmän suorituksen tiedot\n"
     ]
    },
    {
     "data": {
      "text/html": [
       "<div>\n",
       "<style scoped>\n",
       "    .dataframe tbody tr th:only-of-type {\n",
       "        vertical-align: middle;\n",
       "    }\n",
       "\n",
       "    .dataframe tbody tr th {\n",
       "        vertical-align: top;\n",
       "    }\n",
       "\n",
       "    .dataframe thead th {\n",
       "        text-align: right;\n",
       "    }\n",
       "</style>\n",
       "<table border=\"1\" class=\"dataframe\">\n",
       "  <thead>\n",
       "    <tr style=\"text-align: right;\">\n",
       "      <th></th>\n",
       "      <th>Activity Name</th>\n",
       "      <th>Activity Date</th>\n",
       "      <th>Moving Time</th>\n",
       "      <th>Distance</th>\n",
       "      <th>Average Speed</th>\n",
       "      <th>Average Watts</th>\n",
       "    </tr>\n",
       "  </thead>\n",
       "  <tbody>\n",
       "    <tr>\n",
       "      <th>231</th>\n",
       "      <td>29/11/2013 Málaga, Andalucía, Spain</td>\n",
       "      <td>Nov 29, 2013, 11:36:39 AM</td>\n",
       "      <td>11577.0</td>\n",
       "      <td>87.19</td>\n",
       "      <td>27.112724</td>\n",
       "      <td>294.987</td>\n",
       "    </tr>\n",
       "  </tbody>\n",
       "</table>\n",
       "</div>"
      ],
      "text/plain": [
       "                           Activity Name              Activity Date  \\\n",
       "231  29/11/2013 Málaga, Andalucía, Spain  Nov 29, 2013, 11:36:39 AM   \n",
       "\n",
       "     Moving Time  Distance  Average Speed  Average Watts  \n",
       "231      11577.0     87.19      27.112724        294.987  "
      ]
     },
     "metadata": {},
     "output_type": "display_data"
    },
    {
     "name": "stdout",
     "output_type": "stream",
     "text": [
      "Kaikkien aktiviteettien matkojen keskiarvo 36.53 km\n",
      "Kaikkien aktiviteettien keskinopeus 25.14 km/h\n",
      "\n",
      "5 pisintä matkaa vuonna 2013\n"
     ]
    },
    {
     "data": {
      "text/html": [
       "<div>\n",
       "<style scoped>\n",
       "    .dataframe tbody tr th:only-of-type {\n",
       "        vertical-align: middle;\n",
       "    }\n",
       "\n",
       "    .dataframe tbody tr th {\n",
       "        vertical-align: top;\n",
       "    }\n",
       "\n",
       "    .dataframe thead th {\n",
       "        text-align: right;\n",
       "    }\n",
       "</style>\n",
       "<table border=\"1\" class=\"dataframe\">\n",
       "  <thead>\n",
       "    <tr style=\"text-align: right;\">\n",
       "      <th></th>\n",
       "      <th>Activity Name</th>\n",
       "      <th>Activity Date</th>\n",
       "      <th>Moving Time</th>\n",
       "      <th>Distance</th>\n",
       "      <th>Average Speed</th>\n",
       "      <th>Average Watts</th>\n",
       "    </tr>\n",
       "  </thead>\n",
       "  <tbody>\n",
       "    <tr>\n",
       "      <th>231</th>\n",
       "      <td>29/11/2013 Málaga, Andalucía, Spain</td>\n",
       "      <td>Nov 29, 2013, 11:36:39 AM</td>\n",
       "      <td>11577.0</td>\n",
       "      <td>87.19</td>\n",
       "      <td>27.112724</td>\n",
       "      <td>294.987000</td>\n",
       "    </tr>\n",
       "    <tr>\n",
       "      <th>54</th>\n",
       "      <td>11/12/2013 Málaga, Andalucía, Spain</td>\n",
       "      <td>Nov 12, 2013, 12:40:55 PM</td>\n",
       "      <td>10239.0</td>\n",
       "      <td>75.66</td>\n",
       "      <td>26.601817</td>\n",
       "      <td>328.000000</td>\n",
       "    </tr>\n",
       "    <tr>\n",
       "      <th>225</th>\n",
       "      <td>11/24/2013 Málaga, Andalucía, Spain</td>\n",
       "      <td>Nov 24, 2013, 11:55:44 AM</td>\n",
       "      <td>9267.0</td>\n",
       "      <td>74.52</td>\n",
       "      <td>28.949174</td>\n",
       "      <td>272.385986</td>\n",
       "    </tr>\n",
       "    <tr>\n",
       "      <th>30</th>\n",
       "      <td>10/27/2013 Málaga, Andalucía, Spain</td>\n",
       "      <td>Oct 27, 2013, 2:46:31 PM</td>\n",
       "      <td>9753.0</td>\n",
       "      <td>72.83</td>\n",
       "      <td>26.882805</td>\n",
       "      <td>314.028015</td>\n",
       "    </tr>\n",
       "    <tr>\n",
       "      <th>237</th>\n",
       "      <td>03/12/2013 Málaga, Andalucía, Spain</td>\n",
       "      <td>Dec 3, 2013, 12:54:11 PM</td>\n",
       "      <td>8960.0</td>\n",
       "      <td>68.87</td>\n",
       "      <td>27.670982</td>\n",
       "      <td>275.170013</td>\n",
       "    </tr>\n",
       "  </tbody>\n",
       "</table>\n",
       "</div>"
      ],
      "text/plain": [
       "                           Activity Name              Activity Date  \\\n",
       "231  29/11/2013 Málaga, Andalucía, Spain  Nov 29, 2013, 11:36:39 AM   \n",
       "54   11/12/2013 Málaga, Andalucía, Spain  Nov 12, 2013, 12:40:55 PM   \n",
       "225  11/24/2013 Málaga, Andalucía, Spain  Nov 24, 2013, 11:55:44 AM   \n",
       "30   10/27/2013 Málaga, Andalucía, Spain   Oct 27, 2013, 2:46:31 PM   \n",
       "237  03/12/2013 Málaga, Andalucía, Spain   Dec 3, 2013, 12:54:11 PM   \n",
       "\n",
       "     Moving Time  Distance  Average Speed  Average Watts  \n",
       "231      11577.0     87.19      27.112724     294.987000  \n",
       "54       10239.0     75.66      26.601817     328.000000  \n",
       "225       9267.0     74.52      28.949174     272.385986  \n",
       "30        9753.0     72.83      26.882805     314.028015  \n",
       "237       8960.0     68.87      27.670982     275.170013  "
      ]
     },
     "metadata": {},
     "output_type": "display_data"
    }
   ],
   "source": [
    "#print(\"Vuoden 2013 aktiviteettien tietoja:\")\n",
    "year=2013\n",
    "yearData=df2.loc[(df2['Year']==year)]\n",
    "lkm=yearData.shape[0]\n",
    "print(f\"Aktiviteetteja yhteensä {lkm}\")\n",
    "sum=round(yearData['Distance'].sum(),2)\n",
    "print(f\"Aktiviteettien matkojen summa {sum} km\")\n",
    "\n",
    "max=yearData['Distance'].max()\n",
    "print(f\"Pisin suoritus {max} km\")\n",
    "dfMax=yearData.loc[(yearData['Distance']==max)]\n",
    "print()\n",
    "print(f\"Pisimmän suorituksen tiedot\")\n",
    "display(dfMax[columns])\n",
    "\n",
    "mean=round(yearData['Distance'].mean(),2)\n",
    "print(f\"Kaikkien aktiviteettien matkojen keskiarvo {mean} km\")\n",
    "\n",
    "mean=round(yearData['Average Speed'].mean(),2)\n",
    "print(f\"Kaikkien aktiviteettien keskinopeus {mean} km/h\")\n",
    "print()\n",
    "print(f\"5 pisintä matkaa vuonna {year}\")\n",
    "top5Distance=yearData.sort_values(by=['Distance'],ascending=False)[:5]\n",
    "display(top5Distance[columns])\n",
    "\n"
   ]
  },
  {
   "cell_type": "markdown",
   "id": "f4033bf7",
   "metadata": {},
   "source": [
    "#### Talvikauden tietoja vuonna 2013"
   ]
  },
  {
   "cell_type": "code",
   "execution_count": 73,
   "id": "0e6cbf90",
   "metadata": {},
   "outputs": [
    {
     "name": "stdout",
     "output_type": "stream",
     "text": [
      "Aktiviteetteja yhteensä 53\n",
      "Aktiviteettien matkojen summa 1397.23 km\n",
      "Pisin suoritus 68.87 km\n",
      "\n",
      "Pisimmän suorituksen tiedot\n"
     ]
    },
    {
     "data": {
      "text/html": [
       "<div>\n",
       "<style scoped>\n",
       "    .dataframe tbody tr th:only-of-type {\n",
       "        vertical-align: middle;\n",
       "    }\n",
       "\n",
       "    .dataframe tbody tr th {\n",
       "        vertical-align: top;\n",
       "    }\n",
       "\n",
       "    .dataframe thead th {\n",
       "        text-align: right;\n",
       "    }\n",
       "</style>\n",
       "<table border=\"1\" class=\"dataframe\">\n",
       "  <thead>\n",
       "    <tr style=\"text-align: right;\">\n",
       "      <th></th>\n",
       "      <th>Activity Name</th>\n",
       "      <th>Activity Date</th>\n",
       "      <th>Moving Time</th>\n",
       "      <th>Distance</th>\n",
       "      <th>Average Speed</th>\n",
       "      <th>Average Watts</th>\n",
       "    </tr>\n",
       "  </thead>\n",
       "  <tbody>\n",
       "    <tr>\n",
       "      <th>237</th>\n",
       "      <td>03/12/2013 Málaga, Andalucía, Spain</td>\n",
       "      <td>Dec 3, 2013, 12:54:11 PM</td>\n",
       "      <td>8960.0</td>\n",
       "      <td>68.87</td>\n",
       "      <td>27.670982</td>\n",
       "      <td>275.170013</td>\n",
       "    </tr>\n",
       "  </tbody>\n",
       "</table>\n",
       "</div>"
      ],
      "text/plain": [
       "                           Activity Name             Activity Date  \\\n",
       "237  03/12/2013 Málaga, Andalucía, Spain  Dec 3, 2013, 12:54:11 PM   \n",
       "\n",
       "     Moving Time  Distance  Average Speed  Average Watts  \n",
       "237       8960.0     68.87      27.670982     275.170013  "
      ]
     },
     "metadata": {},
     "output_type": "display_data"
    },
    {
     "name": "stdout",
     "output_type": "stream",
     "text": [
      "Kaikkien aktiviteettien matkojen keskiarvo 26.36 km\n",
      "Kaikkien aktiviteettien keskinopeus 23.1 km/h\n"
     ]
    }
   ],
   "source": [
    "dfSeason=yearData.loc[(yearData['Season']=='Winter')]\n",
    "lkm=dfSeason.shape[0]\n",
    "print(f\"Aktiviteetteja yhteensä {lkm}\")\n",
    "\n",
    "sum=dfSeason['Distance'].sum()\n",
    "print(f\"Aktiviteettien matkojen summa {sum} km\")\n",
    "\n",
    "max=dfSeason['Distance'].max()\n",
    "print(f\"Pisin suoritus {max} km\")\n",
    "dfMax=dfSeason.loc[(yearData['Distance']==max)]\n",
    "print()\n",
    "print(f\"Pisimmän suorituksen tiedot\")\n",
    "display(dfMax[columns])\n",
    "\n",
    "mean=round(dfSeason['Distance'].mean(),2)\n",
    "print(f\"Kaikkien aktiviteettien matkojen keskiarvo {mean} km\")\n",
    "\n",
    "mean=round(dfSeason['Average Speed'].mean(),2)\n",
    "print(f\"Kaikkien aktiviteettien keskinopeus {mean} km/h\")\n"
   ]
  },
  {
   "cell_type": "markdown",
   "id": "21c9aeae",
   "metadata": {},
   "source": [
    "## Lineaarinen regressio"
   ]
  },
  {
   "cell_type": "markdown",
   "id": "3caacdce",
   "metadata": {},
   "source": [
    "Suoritetaan regressio matkan ja keskinopeuden suhteen. Regression avulla voidaan ennustaa matkan perusteella keskinopeus."
   ]
  },
  {
   "cell_type": "code",
   "execution_count": 119,
   "id": "9d1a6b42",
   "metadata": {},
   "outputs": [
    {
     "data": {
      "image/png": "[encoded data removed]",
      "text/plain": [
       "<Figure size 1224x720 with 1 Axes>"
      ]
     },
     "metadata": {},
     "output_type": "display_data"
    },
    {
     "name": "stdout",
     "output_type": "stream",
     "text": [
      "Matka 20 km, arvioitu keskinopeus on 24.4 km/h\n"
     ]
    }
   ],
   "source": [
    "\n",
    "from sklearn.linear_model import LinearRegression\n",
    "def linearRegression(df,columns,value,text):\n",
    "\n",
    "    X = np.array(df[columns[0]]).reshape(-1, 1)\n",
    "    y = np.array(df[columns[1]]).reshape(-1, 1)\n",
    "\n",
    "    X_train, X_test, y_train, y_test = train_test_split(X, y, test_size = 0.25)\n",
    "    \n",
    "    model = LinearRegression()\n",
    "\n",
    "    model.fit(X_train, y_train)\n",
    "    \n",
    "    y_pred = model.predict(X_test)\n",
    "\n",
    "    sns.set_style('dark')\n",
    "    plt.figure()\n",
    "    plt.gcf().set_size_inches(17, 10)\n",
    "    plt.scatter(X_test, y_test, color ='orange')\n",
    "    plt.plot(X_test, y_pred, color ='k')\n",
    "    \n",
    "    x_pre = [[value]]    \n",
    "    y_pre = model.predict(x_pre)\n",
    "    \n",
    "    plt.plot(x_pre,y_pre, marker='o', c=\"navy\", ms=20,ls='none')\n",
    "\n",
    "    plt.xlabel(columns[0], size=14)\n",
    "    plt.ylabel(columns[1], size=14)\n",
    "    plt.title(f\"{text}\",size=16)\n",
    "    plt.xticks(fontsize=14)\n",
    "    plt.yticks(fontsize=14)\n",
    "\n",
    "    plt.show()\n",
    "    return y_pre\n",
    "\n",
    "columns=['Distance','Average Speed']\n",
    "value=20\n",
    "text=\"Matkan pituuden vaikutus keskinopeuteen (koko aineisto)\"\n",
    "result=linearRegression(df2,columns,value,text)\n",
    "print(f'Matka {value} km, arvioitu keskinopeus on {round(result[0][0],2)} km/h')"
   ]
  },
  {
   "cell_type": "markdown",
   "id": "888b236c",
   "metadata": {},
   "source": [
    "Yleisesti ottaen luulisi vauhdin/nopeuden hyytyvän kun matka pitenee tietyn rajan yli, mutta \\\n",
    "kaaviosta voidaan havaita, että vauhti ei hidastu matkojen pidentyessä. \\\n",
    "Tähän on selitys: ensinnäkin nyt käytetty aineisto on 10 vuoden ajalta niin muutosta on tapahtunut siten, että pidempiä \\\n",
    "matkoja ei tule enää harrastettua, lisäksi ajan hyvin tasaisesti matkan kuin matkan ja matkojen pituus on pysynyt tietyssä \\\n",
    "pienessä vaihteluvälissä jolloin on voinut määrätietoisen tehokkaasti tehdä suoritukset. \n",
    "\n",
    "Voidaan tehdä koe vaikka viime vuodesta 2021 niin tilanne onkin varmaan toinen."
   ]
  },
  {
   "cell_type": "code",
   "execution_count": 123,
   "id": "fff88673",
   "metadata": {},
   "outputs": [
    {
     "data": {
      "image/png": "[encoded data removed]",
      "text/plain": [
       "<Figure size 1224x720 with 1 Axes>"
      ]
     },
     "metadata": {},
     "output_type": "display_data"
    },
    {
     "name": "stdout",
     "output_type": "stream",
     "text": [
      "Matka 20 km, arvioitu keskinopeus on 24.57 km/h\n"
     ]
    }
   ],
   "source": [
    "data=df2.loc[(df2['Year']==2021)]\n",
    "value=20\n",
    "text=\"Matkan pituuden vaikutus keskinopeuteen (vuosi 2021)\"\n",
    "result=linearRegression(data,columns,value,text)\n",
    "print(f'Matka {value} km, arvioitu keskinopeus on {round(result[0][0],2)} km/h')"
   ]
  },
  {
   "cell_type": "markdown",
   "id": "cdde2559",
   "metadata": {},
   "source": [
    "Tuli todistettua, että nopeus on säilynyt matkojen lyhentyessä. \\\n",
    "Mutta mites talviaikana?"
   ]
  },
  {
   "cell_type": "code",
   "execution_count": 122,
   "id": "9d45e213",
   "metadata": {},
   "outputs": [
    {
     "data": {
      "text/plain": [
       "(536, 13)"
      ]
     },
     "metadata": {},
     "output_type": "display_data"
    },
    {
     "data": {
      "image/png": "[encoded data removed]",
      "text/plain": [
       "<Figure size 1224x720 with 1 Axes>"
      ]
     },
     "metadata": {},
     "output_type": "display_data"
    },
    {
     "name": "stdout",
     "output_type": "stream",
     "text": [
      "Matka 20 km, arvioitu keskinopeus on 21.83 km/h \n"
     ]
    }
   ],
   "source": [
    "def getSeason(month):\n",
    "    seasons=['Spring','Summer','Autumn','Winter']\n",
    "    \n",
    "    if (month>=3) & (month>=5):\n",
    "        return seasons[0]\n",
    "    elif (month>=6) & (month>=8):\n",
    "        return seasons[1]\n",
    "    elif (month>=9) & (month>=11):\n",
    "        return seasons[2]    \n",
    "    elif (month==12) | (month==1) | (month==2):        \n",
    "        return seasons[3]\n",
    "   \n",
    "season=getSeason(1)\n",
    "\n",
    "dfForSeason=df2.loc[df2['Season']==season]\n",
    "display(dfForSeason.shape)\n",
    "\n",
    "columns=['Distance','Average Speed']\n",
    "value=20\n",
    "text=text=\"Matkan pituuden vaikutus keskinopeuteen (koko aineisto talikuukausien 11,1,2 osalta)\"\n",
    "result=linearRegression(dfForSeason,columns,value,text)\n",
    "print(f'Matka {value} km, arvioitu keskinopeus on {round(result[0][0],2)} km/h ')\n"
   ]
  },
  {
   "cell_type": "markdown",
   "id": "908cbc5e",
   "metadata": {},
   "source": [
    "Edelleenkään nopeus ei laske matkan pituuden kasvaessa. Matkat ovat talvisin lyhyempiä ja nopeus hitaampaa, suoritustaso pysyy vakaana talvisinkin."
   ]
  },
  {
   "cell_type": "markdown",
   "id": "d0cd716e",
   "metadata": {},
   "source": [
    "## Luokittelu"
   ]
  },
  {
   "cell_type": "markdown",
   "id": "bc9e6feb",
   "metadata": {},
   "source": [
    "Toteutetaan luokitus perustuen em. (esikäsittely) esille tulleisiin seikkoihin. \\\n",
    "Suureilla 'Average Speed' ja 'Average Watts' näyttäisi olevan melko hyvä riippuvuussuhde."
   ]
  },
  {
   "cell_type": "code",
   "execution_count": 118,
   "id": "1e7b14df",
   "metadata": {},
   "outputs": [
    {
     "data": {
      "text/html": [
       "<div>\n",
       "<style scoped>\n",
       "    .dataframe tbody tr th:only-of-type {\n",
       "        vertical-align: middle;\n",
       "    }\n",
       "\n",
       "    .dataframe tbody tr th {\n",
       "        vertical-align: top;\n",
       "    }\n",
       "\n",
       "    .dataframe thead th {\n",
       "        text-align: right;\n",
       "    }\n",
       "</style>\n",
       "<table border=\"1\" class=\"dataframe\">\n",
       "  <thead>\n",
       "    <tr style=\"text-align: right;\">\n",
       "      <th></th>\n",
       "      <th>Moving Time</th>\n",
       "      <th>Distance</th>\n",
       "      <th>Average Speed</th>\n",
       "      <th>Average Watts</th>\n",
       "    </tr>\n",
       "  </thead>\n",
       "  <tbody>\n",
       "    <tr>\n",
       "      <th>Moving Time</th>\n",
       "      <td>1.000000</td>\n",
       "      <td>0.974971</td>\n",
       "      <td>0.168723</td>\n",
       "      <td>0.064662</td>\n",
       "    </tr>\n",
       "    <tr>\n",
       "      <th>Distance</th>\n",
       "      <td>0.974971</td>\n",
       "      <td>1.000000</td>\n",
       "      <td>0.359912</td>\n",
       "      <td>0.220676</td>\n",
       "    </tr>\n",
       "    <tr>\n",
       "      <th>Average Speed</th>\n",
       "      <td>0.168723</td>\n",
       "      <td>0.359912</td>\n",
       "      <td>1.000000</td>\n",
       "      <td>0.847092</td>\n",
       "    </tr>\n",
       "    <tr>\n",
       "      <th>Average Watts</th>\n",
       "      <td>0.064662</td>\n",
       "      <td>0.220676</td>\n",
       "      <td>0.847092</td>\n",
       "      <td>1.000000</td>\n",
       "    </tr>\n",
       "  </tbody>\n",
       "</table>\n",
       "</div>"
      ],
      "text/plain": [
       "               Moving Time  Distance  Average Speed  Average Watts\n",
       "Moving Time       1.000000  0.974971       0.168723       0.064662\n",
       "Distance          0.974971  1.000000       0.359912       0.220676\n",
       "Average Speed     0.168723  0.359912       1.000000       0.847092\n",
       "Average Watts     0.064662  0.220676       0.847092       1.000000"
      ]
     },
     "metadata": {},
     "output_type": "display_data"
    }
   ],
   "source": [
    "columns=['Moving Time','Distance','Average Speed','Average Watts']\n",
    "display(df2[columns].corr())"
   ]
  },
  {
   "cell_type": "markdown",
   "id": "58f74c9e",
   "metadata": {},
   "source": [
    "Täten suoritukset luokitellaan sarakkeiden \"Average Watts\" ja \"Average Speed\" mukaan niin, että luokitus on näiden kahden \n",
    "sarakkeen luokitusten \\\n",
    "keskiarvo pyöristettynä ylöspäin seuraavaan kokonaislukuun. Em. sarakekohtainen luokitus perustuu tasaisiin jakoihin minimin ja maksimin suhteen.\n",
    "\n",
    "Average Watts on estimoitu arvo, joka perustuu johonkin malliin/kaavaan (tiedä vaikka perustuisi tekoälyyn kone-/syväoppimiseen), mahdollisesti gps-dataa hyödynnetään laskennassa.\n"
   ]
  },
  {
   "cell_type": "code",
   "execution_count": 125,
   "id": "efdd1e1e",
   "metadata": {
    "scrolled": false
   },
   "outputs": [
    {
     "name": "stdout",
     "output_type": "stream",
     "text": [
      "mean= 24.872510986513845\n",
      "min= 5.483304042179262\n",
      "max= 33.79800853485064\n"
     ]
    },
    {
     "data": {
      "text/html": [
       "<div>\n",
       "<style scoped>\n",
       "    .dataframe tbody tr th:only-of-type {\n",
       "        vertical-align: middle;\n",
       "    }\n",
       "\n",
       "    .dataframe tbody tr th {\n",
       "        vertical-align: top;\n",
       "    }\n",
       "\n",
       "    .dataframe thead th {\n",
       "        text-align: right;\n",
       "    }\n",
       "</style>\n",
       "<table border=\"1\" class=\"dataframe\">\n",
       "  <thead>\n",
       "    <tr style=\"text-align: right;\">\n",
       "      <th></th>\n",
       "      <th>&gt;=</th>\n",
       "      <th>&lt;</th>\n",
       "      <th>Grade</th>\n",
       "    </tr>\n",
       "  </thead>\n",
       "  <tbody>\n",
       "    <tr>\n",
       "      <th>0</th>\n",
       "      <td>5.483</td>\n",
       "      <td>10.202</td>\n",
       "      <td>0</td>\n",
       "    </tr>\n",
       "    <tr>\n",
       "      <th>1</th>\n",
       "      <td>10.202</td>\n",
       "      <td>14.922</td>\n",
       "      <td>1</td>\n",
       "    </tr>\n",
       "    <tr>\n",
       "      <th>2</th>\n",
       "      <td>14.922</td>\n",
       "      <td>19.641</td>\n",
       "      <td>2</td>\n",
       "    </tr>\n",
       "    <tr>\n",
       "      <th>3</th>\n",
       "      <td>19.641</td>\n",
       "      <td>24.36</td>\n",
       "      <td>3</td>\n",
       "    </tr>\n",
       "    <tr>\n",
       "      <th>4</th>\n",
       "      <td>24.360</td>\n",
       "      <td>29.079</td>\n",
       "      <td>4</td>\n",
       "    </tr>\n",
       "    <tr>\n",
       "      <th>5</th>\n",
       "      <td>29.079</td>\n",
       "      <td></td>\n",
       "      <td>5</td>\n",
       "    </tr>\n",
       "  </tbody>\n",
       "</table>\n",
       "</div>"
      ],
      "text/plain": [
       "       >=       <  Grade\n",
       "0   5.483  10.202      0\n",
       "1  10.202  14.922      1\n",
       "2  14.922  19.641      2\n",
       "3  19.641   24.36      3\n",
       "4  24.360  29.079      4\n",
       "5  29.079              5"
      ]
     },
     "metadata": {},
     "output_type": "display_data"
    },
    {
     "name": "stdout",
     "output_type": "stream",
     "text": [
      "mean= 274.825229343281\n",
      "min= 52.0610580444336\n",
      "max= 373.7703247070313\n"
     ]
    },
    {
     "data": {
      "text/html": [
       "<div>\n",
       "<style scoped>\n",
       "    .dataframe tbody tr th:only-of-type {\n",
       "        vertical-align: middle;\n",
       "    }\n",
       "\n",
       "    .dataframe tbody tr th {\n",
       "        vertical-align: top;\n",
       "    }\n",
       "\n",
       "    .dataframe thead th {\n",
       "        text-align: right;\n",
       "    }\n",
       "</style>\n",
       "<table border=\"1\" class=\"dataframe\">\n",
       "  <thead>\n",
       "    <tr style=\"text-align: right;\">\n",
       "      <th></th>\n",
       "      <th>&gt;=</th>\n",
       "      <th>&lt;</th>\n",
       "      <th>Grade</th>\n",
       "    </tr>\n",
       "  </thead>\n",
       "  <tbody>\n",
       "    <tr>\n",
       "      <th>0</th>\n",
       "      <td>52.061</td>\n",
       "      <td>105.679</td>\n",
       "      <td>0</td>\n",
       "    </tr>\n",
       "    <tr>\n",
       "      <th>1</th>\n",
       "      <td>105.679</td>\n",
       "      <td>159.297</td>\n",
       "      <td>1</td>\n",
       "    </tr>\n",
       "    <tr>\n",
       "      <th>2</th>\n",
       "      <td>159.297</td>\n",
       "      <td>212.916</td>\n",
       "      <td>2</td>\n",
       "    </tr>\n",
       "    <tr>\n",
       "      <th>3</th>\n",
       "      <td>212.916</td>\n",
       "      <td>266.534</td>\n",
       "      <td>3</td>\n",
       "    </tr>\n",
       "    <tr>\n",
       "      <th>4</th>\n",
       "      <td>266.534</td>\n",
       "      <td>320.152</td>\n",
       "      <td>4</td>\n",
       "    </tr>\n",
       "    <tr>\n",
       "      <th>5</th>\n",
       "      <td>320.152</td>\n",
       "      <td></td>\n",
       "      <td>5</td>\n",
       "    </tr>\n",
       "  </tbody>\n",
       "</table>\n",
       "</div>"
      ],
      "text/plain": [
       "        >=        <  Grade\n",
       "0   52.061  105.679      0\n",
       "1  105.679  159.297      1\n",
       "2  159.297  212.916      2\n",
       "3  212.916  266.534      3\n",
       "4  266.534  320.152      4\n",
       "5  320.152               5"
      ]
     },
     "metadata": {},
     "output_type": "display_data"
    }
   ],
   "source": [
    "def getClassifyLimits(column,_max):\n",
    "    mean=df2[column].mean()\n",
    "    print(f'mean= {mean}')\n",
    "    min=df2[column].min()\n",
    "    print(f'min= {min}')\n",
    "    max=df2[column].max()\n",
    "    print(f'max= {max}')\n",
    "\n",
    "    lims = np.linspace(min, max, 7, endpoint = True).round(3)\n",
    "\n",
    "    mins=[]\n",
    "    maxs=[]\n",
    "    grades=[]\n",
    "    \n",
    "    for i in range(_max):            \n",
    "        mins.append(lims[i])\n",
    "        maxs.append(lims[i+1])\n",
    "        grades.append(i)\n",
    "    mins.append(lims[_max])\n",
    "    maxs.append('')\n",
    "    grades.append(_max)\n",
    "\n",
    "    data={'>=':mins,'<':maxs, 'Grade':grades}\n",
    "    data = pd.DataFrame(data)\n",
    "    return data\n",
    "\n",
    "def doClassify(column,newColumn,_max):\n",
    "    \n",
    "    data=getClassifyLimits(column,_max)\n",
    "    display(data)\n",
    "\n",
    "    for i in range(_max):            \n",
    "        df2.loc[(df2[column] >= data.iloc[i][0]) & (df2[column] < data.iloc[i][1]), newColumn] = i\n",
    "    df2.loc[(df2[column] >= data.iloc[_max][0]), newColumn] = _max\n",
    "\n",
    "doClassify('Average Speed','GradeSpeed',5) \n",
    "doClassify('Average Watts','GradeWatts',5)    \n",
    "\n",
    "# pyöristetään ylöspäin\n",
    "df2['Grade']=(df2['GradeSpeed']+df2['GradeWatts'])/2+((df2['GradeSpeed']+df2['GradeWatts'])%2)/2\n",
    "df2['Grade']=df2['Grade'].astype(int)\n",
    "## dropataan apukentät\n",
    "df2.drop(['GradeWatts','GradeSpeed'], axis=1,inplace=True)"
   ]
  },
  {
   "cell_type": "markdown",
   "id": "ed741f2a",
   "metadata": {},
   "source": [
    "#### value_counts"
   ]
  },
  {
   "cell_type": "code",
   "execution_count": 126,
   "id": "743947d6",
   "metadata": {
    "scrolled": true
   },
   "outputs": [
    {
     "name": "stdout",
     "output_type": "stream",
     "text": [
      "Value counts\n"
     ]
    },
    {
     "data": {
      "text/plain": [
       "4    1410\n",
       "3     586\n",
       "5     302\n",
       "2      94\n",
       "0       7\n",
       "1       5\n",
       "Name: Grade, dtype: int64"
      ]
     },
     "metadata": {},
     "output_type": "display_data"
    }
   ],
   "source": [
    "print(\"Value counts\")\n",
    "display(df2['Grade'].value_counts())"
   ]
  },
  {
   "cell_type": "markdown",
   "id": "b6303762",
   "metadata": {},
   "source": [
    "## Koneoppimismenetelmät"
   ]
  },
  {
   "cell_type": "markdown",
   "id": "e26bcbb5",
   "metadata": {},
   "source": [
    "Testataan luokiteltua aineistoa muutamalla koneoppimismenetelmällä."
   ]
  },
  {
   "cell_type": "code",
   "execution_count": 78,
   "id": "b1935dd0",
   "metadata": {},
   "outputs": [],
   "source": [
    "from sklearn.preprocessing import StandardScaler\n",
    "from sklearn.metrics import confusion_matrix,accuracy_score\n",
    "\n",
    "df3=df2[['Average Speed','Average Watts','Moving Time','Distance','Grade']]\n",
    "\n",
    "X = df3.drop(['Grade'], axis=1)\n",
    "y = df3['Grade']\n",
    "\n",
    "X_train, X_test, y_train, y_test = train_test_split(X, y,test_size=0.25)\n",
    "\n",
    "ss = StandardScaler()\n",
    "ss.fit(X_train)\n",
    "X_train = ss.transform(X_train)\n",
    "X_test = ss.transform(X_test)\n",
    "\n",
    "\n",
    "from sklearn.metrics import confusion_matrix,accuracy_score,roc_curve,roc_auc_score\n",
    "def plot_roc_curve(y_test,y_pred,label):    \n",
    "    fpr, tpr, _ = roc_curve(y_test, y_pred)\n",
    "    auc = round(roc_auc_score(y_test, y_pred), 2)\n",
    "    plt.plot(fpr,tpr,label=f\"{label}, AUC={auc}\",linewidth=3)\n",
    "    plt.legend()\n",
    "\n",
    "\n",
    "import seaborn as sns\n",
    "def confisionMatrix(y_test,y_pred,title):        \n",
    "    plt.figure()    \n",
    "    acc = accuracy_score(y_test, y_pred)\n",
    "    cm = confusion_matrix(y_test, y_pred,labels=[0,1,2,3,4,5])\n",
    "    sns.heatmap(cm, annot=True,cbar=False,fmt=\"d\",cmap='Blues')\n",
    "    plt.title(f'{title} \\n {acc}',size=14,loc='left')\n",
    "    \n",
    "from sklearn.naive_bayes import GaussianNB\n",
    "def gnb(X_train, y_train,X_test,p):\n",
    "    gnb = GaussianNB()\n",
    "    gnb.fit(X_train, y_train)\n",
    "    if p==0:    \n",
    "        return gnb.predict(X_test)\n",
    "    else:\n",
    "        return gnb\n",
    "        \n",
    "from sklearn.neighbors import KNeighborsClassifier\n",
    "def knn(X_train, y_train,X_test,p):\n",
    "    knn = KNeighborsClassifier(n_neighbors=4) # HUOM parametri\n",
    "    knn.fit(X_train, y_train)\n",
    "    if p==0:\n",
    "        return knn.predict(X_test)\n",
    "    else:\n",
    "        return knn\n",
    "\n",
    "from sklearn.svm import LinearSVC\n",
    "def svm(X_train, y_train,X_test,p):\n",
    "    svm = LinearSVC(max_iter=1000)\n",
    "    svm.fit(X_train, y_train)\n",
    "    if p==0:\n",
    "        return svm.predict(X_test)\n",
    "    else:\n",
    "        return svm\n",
    "\n",
    "from sklearn.ensemble import RandomForestClassifier\n",
    "def rfc(X_train, y_train,X_test,p):    \n",
    "    rfc = RandomForestClassifier()\n",
    "    rfc.fit(X_train, y_train)\n",
    "    if p==0:\n",
    "        return rfc.predict(X_test)\n",
    "    else:\n",
    "        return rfc\n",
    " \n",
    "from sklearn.tree import DecisionTreeClassifier\n",
    "def dtc(X_train, y_train,X_test,p):\n",
    "    dtc = DecisionTreeClassifier()    \n",
    "    dtc.fit(X_train, y_train) \n",
    "    if p==0:\n",
    "        return dtc.predict(X_test)\n",
    "    else:\n",
    "        return dtc\n"
   ]
  },
  {
   "cell_type": "code",
   "execution_count": 79,
   "id": "8f1fa2c3",
   "metadata": {},
   "outputs": [
    {
     "data": {
      "image/png": "[encoded data removed]",
      "text/plain": [
       "<Figure size 432x288 with 1 Axes>"
      ]
     },
     "metadata": {},
     "output_type": "display_data"
    },
    {
     "data": {
      "image/png": "[encoded data removed]",
      "text/plain": [
       "<Figure size 432x288 with 1 Axes>"
      ]
     },
     "metadata": {},
     "output_type": "display_data"
    },
    {
     "data": {
      "image/png": "[encoded data removed]",
      "text/plain": [
       "<Figure size 432x288 with 1 Axes>"
      ]
     },
     "metadata": {},
     "output_type": "display_data"
    },
    {
     "data": {
      "image/png": "[encoded data removed]",
      "text/plain": [
       "<Figure size 432x288 with 1 Axes>"
      ]
     },
     "metadata": {},
     "output_type": "display_data"
    },
    {
     "data": {
      "image/png": "[encoded data removed]",
      "text/plain": [
       "<Figure size 432x288 with 1 Axes>"
      ]
     },
     "metadata": {},
     "output_type": "display_data"
    }
   ],
   "source": [
    "y_pred=gnb(X_train, y_train,X_test,0)\n",
    "title=\"Naive/GaussianNB\"\n",
    "confisionMatrix(y_test, y_pred,title)\n",
    "\n",
    "y_pred=knn(X_train, y_train,X_test,0)\n",
    "title=\"KNeighborsClassifier\"\n",
    "confisionMatrix(y_test, y_pred,title)\n",
    "\n",
    "y_pred=svm(X_train, y_train,X_test,0);\n",
    "title=\"LinearSVC\"\n",
    "confisionMatrix(y_test, y_pred,title)\n",
    "\n",
    "y_pred=rfc(X_train, y_train,X_test,0)\n",
    "title=\"RandomForestClassifier\"\n",
    "confisionMatrix(y_test, y_pred,title)\n",
    "\n",
    "y_pred=dtc(X_train, y_train,X_test,0)\n",
    "title=\"DecisionTreeClassifier\"\n",
    "confisionMatrix(y_test, y_pred,title)"
   ]
  },
  {
   "cell_type": "markdown",
   "id": "eb795d7f",
   "metadata": {},
   "source": [
    "#### Testi"
   ]
  },
  {
   "cell_type": "code",
   "execution_count": 80,
   "id": "f08da076",
   "metadata": {
    "scrolled": false
   },
   "outputs": [
    {
     "name": "stdout",
     "output_type": "stream",
     "text": [
      "     Average Speed  Average Watts  Moving Time  Distance  Grade\n",
      "656      26.239204     285.286987       3821.0     27.85      4\n",
      "\n",
      "Testi 1\n"
     ]
    },
    {
     "data": {
      "text/html": [
       "<div>\n",
       "<style scoped>\n",
       "    .dataframe tbody tr th:only-of-type {\n",
       "        vertical-align: middle;\n",
       "    }\n",
       "\n",
       "    .dataframe tbody tr th {\n",
       "        vertical-align: top;\n",
       "    }\n",
       "\n",
       "    .dataframe thead th {\n",
       "        text-align: right;\n",
       "    }\n",
       "</style>\n",
       "<table border=\"1\" class=\"dataframe\">\n",
       "  <thead>\n",
       "    <tr style=\"text-align: right;\">\n",
       "      <th></th>\n",
       "      <th>Average Speed</th>\n",
       "      <th>Average Watts</th>\n",
       "      <th>Moving Time</th>\n",
       "      <th>Distance</th>\n",
       "    </tr>\n",
       "  </thead>\n",
       "  <tbody>\n",
       "    <tr>\n",
       "      <th>656</th>\n",
       "      <td>26.239204</td>\n",
       "      <td>285.286987</td>\n",
       "      <td>3821.0</td>\n",
       "      <td>27.85</td>\n",
       "    </tr>\n",
       "  </tbody>\n",
       "</table>\n",
       "</div>"
      ],
      "text/plain": [
       "     Average Speed  Average Watts  Moving Time  Distance\n",
       "656      26.239204     285.286987       3821.0     27.85"
      ]
     },
     "metadata": {},
     "output_type": "display_data"
    },
    {
     "name": "stdout",
     "output_type": "stream",
     "text": [
      "\n",
      "DecisionTreeClassifier -> luokka: 4 ennustettu: 4\n",
      "LinearSVC -> luokka: 4 ennustettu: 4\n",
      "knn -> luokka: 4 ennustettu: 4\n",
      "GaussianNB -> luokka: 4 ennustettu: 4\n",
      "RandomForestClassifier -> luokka: 4 ennustettu: 4\n",
      "\n",
      "Testi 2\n"
     ]
    },
    {
     "data": {
      "text/html": [
       "<div>\n",
       "<style scoped>\n",
       "    .dataframe tbody tr th:only-of-type {\n",
       "        vertical-align: middle;\n",
       "    }\n",
       "\n",
       "    .dataframe tbody tr th {\n",
       "        vertical-align: top;\n",
       "    }\n",
       "\n",
       "    .dataframe thead th {\n",
       "        text-align: right;\n",
       "    }\n",
       "</style>\n",
       "<table border=\"1\" class=\"dataframe\">\n",
       "  <thead>\n",
       "    <tr style=\"text-align: right;\">\n",
       "      <th></th>\n",
       "      <th>Average Speed</th>\n",
       "      <th>Average Watts</th>\n",
       "      <th>Moving Time</th>\n",
       "      <th>Distance</th>\n",
       "    </tr>\n",
       "  </thead>\n",
       "  <tbody>\n",
       "    <tr>\n",
       "      <th>656</th>\n",
       "      <td>26.322786</td>\n",
       "      <td>285.286987</td>\n",
       "      <td>3821.0</td>\n",
       "      <td>55</td>\n",
       "    </tr>\n",
       "  </tbody>\n",
       "</table>\n",
       "</div>"
      ],
      "text/plain": [
       "     Average Speed  Average Watts  Moving Time  Distance\n",
       "656      26.322786     285.286987       3821.0        55"
      ]
     },
     "metadata": {},
     "output_type": "display_data"
    },
    {
     "name": "stdout",
     "output_type": "stream",
     "text": [
      "\n",
      "DecisionTreeClassifier -> ennustettu: 4\n",
      "LinearSVC -> ennustettu: 2\n",
      "knn -> ennustettu: 4\n",
      "GaussianNB -> ennustettu: 4\n",
      "RandomForestClassifier -> ennustettu: 4\n",
      "----------------\n",
      "\n",
      "Testi 3\n"
     ]
    },
    {
     "data": {
      "text/html": [
       "<div>\n",
       "<style scoped>\n",
       "    .dataframe tbody tr th:only-of-type {\n",
       "        vertical-align: middle;\n",
       "    }\n",
       "\n",
       "    .dataframe tbody tr th {\n",
       "        vertical-align: top;\n",
       "    }\n",
       "\n",
       "    .dataframe thead th {\n",
       "        text-align: right;\n",
       "    }\n",
       "</style>\n",
       "<table border=\"1\" class=\"dataframe\">\n",
       "  <thead>\n",
       "    <tr style=\"text-align: right;\">\n",
       "      <th></th>\n",
       "      <th>Average Speed</th>\n",
       "      <th>Average Watts</th>\n",
       "      <th>Moving Time</th>\n",
       "      <th>Distance</th>\n",
       "    </tr>\n",
       "  </thead>\n",
       "  <tbody>\n",
       "    <tr>\n",
       "      <th>656</th>\n",
       "      <td>15.812171</td>\n",
       "      <td>100</td>\n",
       "      <td>3821.0</td>\n",
       "      <td>55</td>\n",
       "    </tr>\n",
       "  </tbody>\n",
       "</table>\n",
       "</div>"
      ],
      "text/plain": [
       "     Average Speed  Average Watts  Moving Time  Distance\n",
       "656      15.812171            100       3821.0        55"
      ]
     },
     "metadata": {},
     "output_type": "display_data"
    },
    {
     "name": "stdout",
     "output_type": "stream",
     "text": [
      "\n",
      "DecisionTreeClassifier -> ennustettu: 2\n",
      "LinearSVC -> ennustettu: 2\n",
      "knn -> ennustettu: 2\n",
      "GaussianNB -> ennustettu: 3\n",
      "RandomForestClassifier -> ennustettu: 2\n"
     ]
    }
   ],
   "source": [
    "def test(luokka,item,nbr):    \n",
    "    print()\n",
    "    print(f'Testi {nbr}')\n",
    "    display(item)      \n",
    "    item=ss.transform(item)\n",
    "    print()\n",
    "    y_pred=dtc(X_train, y_train,item,0)[0]\n",
    "    if luokka!=\"\":\n",
    "        print(f'DecisionTreeClassifier -> luokka: {luokka} ennustettu: {y_pred}')\n",
    "    else:\n",
    "        print(f'DecisionTreeClassifier -> ennustettu: {y_pred}')\n",
    "    y_pred=svm(X_train, y_train,item,0)[0]\n",
    "    if luokka!=\"\":\n",
    "        print(f'LinearSVC -> luokka: {luokka} ennustettu: {y_pred}')\n",
    "    else:\n",
    "        print(f'LinearSVC -> ennustettu: {y_pred}')\n",
    "    \n",
    "    y_pred=knn(X_train, y_train,item,0)[0]\n",
    "    if luokka!=\"\":\n",
    "        print(f'knn -> luokka: {luokka} ennustettu: {y_pred}')\n",
    "    else:\n",
    "        print(f'knn -> ennustettu: {y_pred}')\n",
    "        \n",
    "    y_pred=gnb(X_train, y_train,item,0)[0]\n",
    "    \n",
    "    if luokka!=\"\":\n",
    "        print(f'GaussianNB -> luokka: {luokka} ennustettu: {y_pred}')\n",
    "    else:\n",
    "        print(f'GaussianNB -> ennustettu: {y_pred}')\n",
    "        \n",
    "    y_pred=rfc(X_train, y_train,item,0)[0]\n",
    "    if luokka!=\"\":\n",
    "        print(f'RandomForestClassifier -> luokka: {luokka} ennustettu: {y_pred}')\n",
    "    else:\n",
    "        print(f'RandomForestClassifier -> ennustettu: {y_pred}')\n",
    "\n",
    "\n",
    "item=df3.loc[656:656]\n",
    "print(item)\n",
    "\n",
    "luokka=item['Grade'].values[0]\n",
    "item.drop(['Grade'], axis=1,inplace=True)\n",
    "test(luokka,item,1)\n",
    "\n",
    "# Muokataan hieman dataa ja katsotaan tulos\n",
    "#    km/h  Moving Time  Distance  Average Watts\n",
    "# 22.819998      17522.0    111.07     262.348999\n",
    "\n",
    "item['Distance']=55\n",
    "item['Average Speed']=55/(7522/3600)\n",
    "# Average Watts teho pidetään samana \n",
    "\n",
    "test(\"\",item,2)\n",
    "\n",
    "print(\"----------------\")\n",
    "item['Distance']=55\n",
    "item['Average Speed']=55/(12522/3600)\n",
    "item['Average Watts']=100\n",
    "\n",
    "test(\"\",item,3)\n"
   ]
  },
  {
   "cell_type": "markdown",
   "id": "0a1f9113",
   "metadata": {},
   "source": [
    "```\n",
    "Testi 1: kaikki menetelmät palauttivat oikein\n",
    "Testi 2: LinearSVC ennusti poikkeavasti\n",
    "Testi 3: GaussianNB ennusti poikkeavasti\n",
    "```"
   ]
  },
  {
   "cell_type": "markdown",
   "id": "f9b42fae",
   "metadata": {},
   "source": [
    "## Syväoppiminen"
   ]
  },
  {
   "cell_type": "markdown",
   "id": "e8086f5f",
   "metadata": {},
   "source": [
    "Muodostetaan yksinkertainen neuroverkko Keras Sequential API:lla \n",
    "\n",
    "**sisäänmeno**\\\n",
    "Sisäänmeno 4 units, koska X_train aineisto sisältää 4 (features) eri muuttujaa \\\n",
    "'Average Speed', 'Average Watts', 'Moving Time', 'Distance'\\\n",
    "**ulostulo**\\\n",
    "Koska aktiviteettien luokitus on tehty kouluarvosanoin 0-5 \\\n",
    "pitää ulostulossa olla 6 units eli 6 eri vaihtoehtoista arvoa 0-5 \\\n",
    "**aktivointifunktio**\\\n",
    "Activation pitää olla softmax, jota käytetään moniluokkaluokituksen yhteydessä, \\\n",
    "muut aktivointifunktiot eivät toimi tässä tapauksessa. \\\n",
    "**häviöfunktio**\\\n",
    "loss pitää olla \"sparse_categorical_crossentropy\" em. syystä. \\\n",
    "**optimisaattori**\\\n",
    "optimizer joko Adam tai RMSProp, ei merkittävää eroa näiden välillä."
   ]
  },
  {
   "cell_type": "code",
   "execution_count": 129,
   "id": "7971677d",
   "metadata": {
    "scrolled": false
   },
   "outputs": [
    {
     "name": "stdout",
     "output_type": "stream",
     "text": [
      "19/19 [==============================] - 0s 653us/step - loss: 0.2219 - accuracy: 0.9135\n",
      "Test Loss:0.2219330221414566 Test Accuracy:91.34775400161743%\n"
     ]
    },
    {
     "data": {
      "image/png": "[encoded data removed]",
      "text/plain": [
       "<Figure size 432x288 with 1 Axes>"
      ]
     },
     "metadata": {},
     "output_type": "display_data"
    },
    {
     "data": {
      "image/png": "[encoded data removed]",
      "text/plain": [
       "<Figure size 432x288 with 1 Axes>"
      ]
     },
     "metadata": {},
     "output_type": "display_data"
    },
    {
     "data": {
      "image/png": "[encoded data removed]",
      "text/plain": [
       "<Figure size 432x288 with 1 Axes>"
      ]
     },
     "metadata": {},
     "output_type": "display_data"
    }
   ],
   "source": [
    "import tensorflow as tf\n",
    "from sklearn.preprocessing import MinMaxScaler\n",
    "from sklearn.model_selection import train_test_split\n",
    "from tensorflow.keras.layers import Dense\n",
    "\n",
    "X_train, X_test, y_train, y_test = train_test_split(X, y,test_size=0.25)\n",
    "\n",
    "scaler = MinMaxScaler().fit(X_train)\n",
    "X_train = scaler.transform(X_train)\n",
    "X_test = scaler.transform(X_test)\n",
    "\n",
    "\n",
    "def ks(X_train, y_train,X_test,epochs,p):\n",
    "    \n",
    "    def history_accuracy(history):\n",
    "        sns.set_style('dark')\n",
    "        plt.figure()\n",
    "        plt.plot(history.history['accuracy'])\n",
    "        plt.title('model accuracy')\n",
    "        plt.ylabel('accuracy')\n",
    "        plt.xlabel('epoch')\n",
    "        plt.legend(['train', 'test'], loc='upper left')\n",
    "        plt.show()\n",
    "\n",
    "    \n",
    "    \n",
    "    def history_loss(history):\n",
    "        sns.set_style('dark')\n",
    "        plt.figure()\n",
    "        plt.plot(history.history['loss'])\n",
    "        plt.title('model loss')\n",
    "        plt.ylabel('loss')\n",
    "        plt.xlabel('epoch')\n",
    "        plt.legend(['train', 'test'], loc='upper left')\n",
    "        plt.show()\n",
    "    \n",
    "    model = tf.keras.Sequential([\n",
    "        Dense(4, activation='relu'),    \n",
    "        Dense(6,activation='relu'),        \n",
    "        Dense(6,activation='softmax')\n",
    "    ])\n",
    "\n",
    "    model.compile(loss=\"sparse_categorical_crossentropy\",\n",
    "                  optimizer='adam',\n",
    "                  #optimizer='RMSProp',\n",
    "                  metrics=['accuracy']\n",
    "                  )\n",
    "\n",
    "    history=model.fit(X_train,y_train,epochs=epochs,verbose=0)\n",
    "\n",
    "    if p==1:\n",
    "        results = model.evaluate(X_test, y_test, verbose=1)\n",
    "        print(f\"Test Loss:{results[0]} Test Accuracy:{results[1]*100}%\")\n",
    "\n",
    "    \n",
    "    predict=model.predict(X_test) \n",
    "    y_pred=np.argmax(predict,axis=1)\n",
    "    \n",
    "    if p==1:\n",
    "        title=\"Keras Sequential\"\n",
    "        history_accuracy(history)\n",
    "        history_loss(history)\n",
    "        confisionMatrix(y_test, y_pred,title)\n",
    "    else:\n",
    "        return y_pred\n",
    "        \n",
    "ks(X_train, y_train,X_test,200,1)\n"
   ]
  },
  {
   "cell_type": "markdown",
   "id": "32654a98",
   "metadata": {},
   "source": [
    "Kuten kaaviosta voidaan nähdä niin vähintään 100 epoch-koulutuskierrosta vaaditaan tyydyttävään/kohtuulliseen tulokseen."
   ]
  },
  {
   "cell_type": "markdown",
   "id": "557ee458",
   "metadata": {},
   "source": [
    "## Tulosten analysointi"
   ]
  },
  {
   "cell_type": "markdown",
   "id": "6bc536a7",
   "metadata": {},
   "source": []
  },
  {
   "cell_type": "markdown",
   "id": "19f4804a",
   "metadata": {},
   "source": [
    "#### Menetelmien vertailua"
   ]
  },
  {
   "cell_type": "code",
   "execution_count": 133,
   "id": "e4ba893a",
   "metadata": {},
   "outputs": [
    {
     "data": {
      "text/html": [
       "<div>\n",
       "<style scoped>\n",
       "    .dataframe tbody tr th:only-of-type {\n",
       "        vertical-align: middle;\n",
       "    }\n",
       "\n",
       "    .dataframe tbody tr th {\n",
       "        vertical-align: top;\n",
       "    }\n",
       "\n",
       "    .dataframe thead th {\n",
       "        text-align: right;\n",
       "    }\n",
       "</style>\n",
       "<table border=\"1\" class=\"dataframe\">\n",
       "  <thead>\n",
       "    <tr style=\"text-align: right;\">\n",
       "      <th></th>\n",
       "      <th>Method</th>\n",
       "      <th>Accuracy</th>\n",
       "    </tr>\n",
       "  </thead>\n",
       "  <tbody>\n",
       "    <tr>\n",
       "      <th>0</th>\n",
       "      <td>Naive/GaussianNB</td>\n",
       "      <td>0.896839</td>\n",
       "    </tr>\n",
       "    <tr>\n",
       "      <th>1</th>\n",
       "      <td>KNeighborsClassifier</td>\n",
       "      <td>0.920133</td>\n",
       "    </tr>\n",
       "    <tr>\n",
       "      <th>2</th>\n",
       "      <td>LinearSVC</td>\n",
       "      <td>0.782030</td>\n",
       "    </tr>\n",
       "    <tr>\n",
       "      <th>3</th>\n",
       "      <td>RandomForestClassifier</td>\n",
       "      <td>0.996672</td>\n",
       "    </tr>\n",
       "    <tr>\n",
       "      <th>4</th>\n",
       "      <td>DecisionTreeClassifier</td>\n",
       "      <td>1.000000</td>\n",
       "    </tr>\n",
       "  </tbody>\n",
       "</table>\n",
       "</div>"
      ],
      "text/plain": [
       "                   Method  Accuracy\n",
       "0        Naive/GaussianNB  0.896839\n",
       "1    KNeighborsClassifier  0.920133\n",
       "2               LinearSVC  0.782030\n",
       "3  RandomForestClassifier  0.996672\n",
       "4  DecisionTreeClassifier  1.000000"
      ]
     },
     "metadata": {},
     "output_type": "display_data"
    }
   ],
   "source": [
    "method=[]\n",
    "acc=[]\n",
    "\n",
    "y_pred=ks(X_train, y_train,X_test,200,0)\n",
    "title=\"Keras Sequential\"\n",
    "acc.append(accuracy_score(y_test, y_pred))\n",
    "method.append(title)\n",
    "\n",
    "y_pred=gnb(X_train, y_train,X_test,0)\n",
    "title=\"Naive/GaussianNB\"\n",
    "acc.append(accuracy_score(y_test, y_pred))\n",
    "method.append(title)\n",
    "\n",
    "y_pred=knn(X_train, y_train,X_test,0)\n",
    "title=\"KNeighborsClassifier\"\n",
    "acc.append(accuracy_score(y_test, y_pred))\n",
    "method.append(title)\n",
    "\n",
    "y_pred=svm(X_train, y_train,X_test,0);\n",
    "title=\"LinearSVC\"\n",
    "acc.append(accuracy_score(y_test, y_pred))\n",
    "method.append(title)\n",
    "\n",
    "y_pred=rfc(X_train, y_train,X_test,0)\n",
    "title=\"RandomForestClassifier\"\n",
    "acc.append(accuracy_score(y_test, y_pred))\n",
    "method.append(title)\n",
    "\n",
    "y_pred=dtc(X_train, y_train,X_test,0)\n",
    "title=\"DecisionTreeClassifier\"\n",
    "acc.append(accuracy_score(y_test, y_pred))\n",
    "method.append(title)\n",
    "\n",
    "data={'Method':method,'Accuracy':acc}\n",
    "data = pd.DataFrame(data)\n",
    "display(data)"
   ]
  },
  {
   "cell_type": "markdown",
   "id": "646aef49",
   "metadata": {},
   "source": [
    "```\n",
    "Voidaan havaita, että ko. parametreilla syväsoppimismenetelmä tämän aineiston osalta eii loista vaan moni \n",
    "koneoppimismenetelmä ylsi parempaan tulokseen. Joten kannattaa vertailla/testailla eri menetelmiä sekä \n",
    "parametreja ja löytää paras menetelmä juuri ko. aineistolle.\n",
    "Joissakin tapauksissa yksinkertaisemmat menetelmät voivat\n",
    "olla paitsi tehokkaampia niin myös parempia vaihtoehtoja. Tämänkin seikan takia kannattaa aina kokeilla useampaa kuin\n",
    "yhtä koneoppimismenetelmää aineiston kanssa ja vertailla niistä saatuja tuloksia toisiinsa.\n",
    "\n",
    "```"
   ]
  },
  {
   "cell_type": "markdown",
   "id": "76b7a38d",
   "metadata": {},
   "source": [
    "#### Aineistosta\n",
    "Kieltämättä aineisto ei ollut tasalaatuista kun tiettyä dataa puuttui, esikäsittely sinäänsä ei ollut ongelmia \n",
    "kun tunnisti puutteellisen sekö virheellisen datan. Stravan majsuyllinen...\n",
    "Pyöräilyynnliittyvöt tekijät vissiin alkuun eik tänne Strava\n",
    "Uusi viime vuosien data ei ole puutteelista johtuen uudemmista mittavälineistä \n",
    "\n",
    "Misät johtuu puuttuva data, osa datasta on tuotu toisesta palvelusta jolloin Strava ei nähtävästi käsittele dataa eli ei laske joitakin suureita vaan silloin kun uusi data on tuote niin tiedot lisätään ja lasketaan... "
   ]
  },
  {
   "cell_type": "markdown",
   "id": "848aefee",
   "metadata": {},
   "source": [
    "#### Luokittelusta\n",
    "Suuri osa suorituksista luokitellaan 4:n arvoisiksi. Ei ole kaukaa haettu, mutta voisi toki tehdä pientä hienosäätöä, ottaen huomioon myös oman kokemuksen ja ns. perstuntuman.\n",
    "\n",
    "Koska on kyse omasta datasta niin tärkeää olisi huomioida myös kokemuspohjainen perstuntuma ja otata tämäkin huomioon yhtenä tekijänä luokittelua tehdessä\n",
    "Kun itse arvion suorituksen taso ja onnistumista kiinnitän huomion keskinopeuteen suhteytettuna matkan pituuteen.\n",
    "eli ihan peruskamaa, mutta nopeuteen vaikuttaa monet asiat mm. sääolosuhteet lämpötila tuuli reitin maasto, pyörä,\n",
    "tienpinta asfaltti/hiekkatie/maasto\n",
    "Korrrelaatiotaulukon perusteella \n"
   ]
  },
  {
   "cell_type": "code",
   "execution_count": 127,
   "id": "46e6a13a",
   "metadata": {},
   "outputs": [
    {
     "data": {
      "text/plain": [
       "4    1410\n",
       "3     586\n",
       "5     302\n",
       "2      94\n",
       "0       7\n",
       "1       5\n",
       "Name: Grade, dtype: int64"
      ]
     },
     "metadata": {},
     "output_type": "display_data"
    }
   ],
   "source": [
    "display(df3['Grade'].value_counts())"
   ]
  },
  {
   "cell_type": "markdown",
   "id": "b9318aa5",
   "metadata": {},
   "source": [
    "#### Kehitettävää\n",
    "Syväoppimismalli on varmaankin yksinkertaisin mahdollinen tähän aineistoon. Mallia voisi kehittää lisäämällä kerroksia, kohtalaisen hyvin toimii \"karvalakki\"-versiollakin.\n",
    "\n",
    "\n",
    "Oma suoritusten luokitus 0-5 vois kenties vielä kehittää todenmukaisemmaksi, mutta tässä ja nyt ihan ok.\n",
    "\n",
    "Olisi hyvä saada tätähkin dataa tai sitten ei.\n",
    "Toki suorituksiin vaikuttaa mm. sääolosuhteer lämpötila,tuulenopeus ja-suunta, vuodenajat yms. tä \n",
    "varustus välineet\n",
    "Stravan maksullinen\n",
    "Pyöräilysuoritukseen vaikutta hyvin moini asia, joista sää on kenties tärkein, lislksi varustus, vireystila yms. Stravan maksullinen versio voisi antaa suuremman joukon eri paramtreja/muuttujia/suureita\n",
    "\n",
    "Koska sää on hyvin merkittävä tekijä suorituksen onnistumiseen niin sää dataa olisi hyvä saada kunkin suorituksen yhteyteen. Stravan maksullinen versio taitaa nuo tietodot sisältää, tiedot voitaneen hakea jostakin sääpalvelusta esim. \n",
    "https://openweathermap.org/\n",
    "\n",
    "Loppuun\n",
    "Strava-palvelun maksullisella versiolla saadaa huomattavasti enemmän dataa mahd. myös sää tietoja ko. suorituksen aikna lämpötiöa tuuli yms.\n",
    "https://www.strava.com/clubs/231407/posts/9470686\n",
    "Itselläni ei ollut ko.     \n",
    "Voitaisiin toki hakea jostakin palvelusta ja lisätä jotakin tietoja mutta miten sitä soveltaa onkin toinen juttu\n",
    "mutta sää olosuhteilla on hyvinkin suuri vaikutus koska mm. vuodenajat ovat erilaiset \n",
    "Voitaissin ottaa huomioon sääolosuhteiden vaikutus\n",
    "https://www.worldweatheronline.com/weather-api/\n",
    "https://openweathermap.org/api\n",
    "\n",
    "Mutta viisanta jos haluaa hyödyntää säädataa on hamkkia Stravan maksullinen verio, jolloin ko datan saa suoraan omiin sarakkeihinsa ja on tallessa yhdessä paikassa.\n",
    "\n",
    "Wind and Temperature mahd. rain snow water ice/snow/ minu s degrees\n",
    "#############\n",
    "\n",
    "\n",
    "Huomiotavaa olisi \n",
    "1. Weather Condition\n",
    "2. Day of the Week and Weekend\n",
    "\n",
    "\n",
    "https://towardsdatascience.com/classification-regression-and-prediction-whats-the-difference-5423d9efe4ec\n",
    "\n",
    "\n",
    "Luokittelussa olis voinut käyttää muitakin suureita mm. Calories mutta koska datassa oli paljon puuttteita niin se heivattiin pois laskuista. Nythän on niin, että kaikki uusi data on eheämpää ja vähemmän puuttellista. Joten jatkossa \n",
    "uusimman datan (viime vuodet) voisi vertailun vuoksi kehitää luokittelua paremmaksi, toki omaan empiiriseen kokemusta pitäis myös hyödyntää luokitusrajoijen määrittelyssä. Nyt jako tehtiin maximin ja minimin väli jakamalla tasaisiin osiin.\n",
    "Mallien tomivuu\n",
    "\n",
    "\n",
    "\n"
   ]
  },
  {
   "cell_type": "markdown",
   "id": "cd2ae92e",
   "metadata": {},
   "source": [
    "#### Huomioita\n"
   ]
  }
 ],
 "metadata": {
  "jupytext": {
   "cell_metadata_filter": "-all",
   "main_language": "python",
   "notebook_metadata_filter": "-all"
  },
  "kernelspec": {
   "display_name": "Python 3 (ipykernel)",
   "language": "python",
   "name": "python3"
  },
  "language_info": {
   "codemirror_mode": {
    "name": "ipython",
    "version": 3
   },
   "file_extension": ".py",
   "mimetype": "text/x-python",
   "name": "python",
   "nbconvert_exporter": "python",
   "pygments_lexer": "ipython3",
   "version": "3.9.7"
  }
 },
 "nbformat": 4,
 "nbformat_minor": 5
}
